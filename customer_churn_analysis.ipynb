{
  "nbformat": 4,
  "nbformat_minor": 0,
  "metadata": {
    "kernelspec": {
      "display_name": "Python 3",
      "language": "python",
      "name": "python3"
    },
    "language_info": {
      "codemirror_mode": {
        "name": "ipython",
        "version": 3
      },
      "file_extension": ".py",
      "mimetype": "text/x-python",
      "name": "python",
      "nbconvert_exporter": "python",
      "pygments_lexer": "ipython3",
      "version": "3.7.2"
    },
    "colab": {
      "name": "customer_churn_analysis.ipynb",
      "provenance": [],
      "collapsed_sections": []
    }
  },
  "cells": [
    {
      "cell_type": "markdown",
      "metadata": {
        "id": "jyYGAMY-JPs2"
      },
      "source": [
        "# Customer Churn Analysis\r\n",
        "**This notebook is divided into the following sections:**\r\n",
        "\r\n",
        "1. Importing the data\r\n",
        "2. Understanding the data\r\n",
        "3. Data Manipulation\r\n",
        "4. Data Visualization\r\n",
        "5. Implement ML Models\r\n",
        "6. Model Evaluation\r\n",
        "7. Final Conclusions\r\n"
      ]
    },
    {
      "cell_type": "code",
      "metadata": {
        "id": "E1wiOOs2Rodc"
      },
      "source": [
        "import pandas as pd\r\n",
        "import numpy as np\r\n",
        "import seaborn as sns\r\n",
        "import matplotlib.pyplot as plt\r\n",
        "%matplotlib inline\r\n",
        "\r\n",
        "from sklearn import preprocessing\r\n",
        "from statsmodels.stats.outliers_influence import variance_inflation_factor\r\n",
        "\r\n",
        "from sklearn.model_selection import train_test_split\r\n",
        "from sklearn.preprocessing import MinMaxScaler\r\n",
        "\r\n",
        "from sklearn.metrics import classification_report, accuracy_score\r\n",
        "from sklearn.model_selection import GridSearchCV\r\n",
        "\r\n",
        "from sklearn.linear_model import LogisticRegression\r\n",
        "from sklearn.svm import SVC\r\n",
        "from sklearn.ensemble import RandomForestClassifier\r\n",
        "from xgboost import XGBClassifier"
      ],
      "execution_count": null,
      "outputs": []
    },
    {
      "cell_type": "markdown",
      "metadata": {
        "id": "G3FYu8vWPQ2A"
      },
      "source": [
        "### Importing the data\r\n",
        "Data Source: **Telco Customer Churn dataset**"
      ]
    },
    {
      "cell_type": "code",
      "metadata": {
        "id": "FjFBK8LaPQ2B"
      },
      "source": [
        "# Upload the dataset file on colab notebook\n",
        "from google.colab import files\n",
        "files.upload()"
      ],
      "execution_count": null,
      "outputs": []
    },
    {
      "cell_type": "code",
      "metadata": {
        "colab": {
          "base_uri": "https://localhost:8080/",
          "height": 300
        },
        "id": "NXx-LIUTRub0",
        "outputId": "a6113730-e355-4db3-b386-1bf5958483e1"
      },
      "source": [
        "# Read and display the file\r\n",
        "df = pd.read_csv(\"Churn.csv\")\r\n",
        "df.head()"
      ],
      "execution_count": null,
      "outputs": [
        {
          "output_type": "execute_result",
          "data": {
            "text/html": [
              "<div>\n",
              "<style scoped>\n",
              "    .dataframe tbody tr th:only-of-type {\n",
              "        vertical-align: middle;\n",
              "    }\n",
              "\n",
              "    .dataframe tbody tr th {\n",
              "        vertical-align: top;\n",
              "    }\n",
              "\n",
              "    .dataframe thead th {\n",
              "        text-align: right;\n",
              "    }\n",
              "</style>\n",
              "<table border=\"1\" class=\"dataframe\">\n",
              "  <thead>\n",
              "    <tr style=\"text-align: right;\">\n",
              "      <th></th>\n",
              "      <th>customerID</th>\n",
              "      <th>gender</th>\n",
              "      <th>SeniorCitizen</th>\n",
              "      <th>Partner</th>\n",
              "      <th>Dependents</th>\n",
              "      <th>tenure</th>\n",
              "      <th>PhoneService</th>\n",
              "      <th>MultipleLines</th>\n",
              "      <th>InternetService</th>\n",
              "      <th>OnlineSecurity</th>\n",
              "      <th>OnlineBackup</th>\n",
              "      <th>DeviceProtection</th>\n",
              "      <th>TechSupport</th>\n",
              "      <th>StreamingTV</th>\n",
              "      <th>StreamingMovies</th>\n",
              "      <th>Contract</th>\n",
              "      <th>PaperlessBilling</th>\n",
              "      <th>PaymentMethod</th>\n",
              "      <th>MonthlyCharges</th>\n",
              "      <th>TotalCharges</th>\n",
              "      <th>Churn</th>\n",
              "    </tr>\n",
              "  </thead>\n",
              "  <tbody>\n",
              "    <tr>\n",
              "      <th>0</th>\n",
              "      <td>7590-VHVEG</td>\n",
              "      <td>Female</td>\n",
              "      <td>0</td>\n",
              "      <td>Yes</td>\n",
              "      <td>No</td>\n",
              "      <td>1</td>\n",
              "      <td>No</td>\n",
              "      <td>No phone service</td>\n",
              "      <td>DSL</td>\n",
              "      <td>No</td>\n",
              "      <td>Yes</td>\n",
              "      <td>No</td>\n",
              "      <td>No</td>\n",
              "      <td>No</td>\n",
              "      <td>No</td>\n",
              "      <td>Month-to-month</td>\n",
              "      <td>Yes</td>\n",
              "      <td>Electronic check</td>\n",
              "      <td>29.85</td>\n",
              "      <td>29.85</td>\n",
              "      <td>No</td>\n",
              "    </tr>\n",
              "    <tr>\n",
              "      <th>1</th>\n",
              "      <td>5575-GNVDE</td>\n",
              "      <td>Male</td>\n",
              "      <td>0</td>\n",
              "      <td>No</td>\n",
              "      <td>No</td>\n",
              "      <td>34</td>\n",
              "      <td>Yes</td>\n",
              "      <td>No</td>\n",
              "      <td>DSL</td>\n",
              "      <td>Yes</td>\n",
              "      <td>No</td>\n",
              "      <td>Yes</td>\n",
              "      <td>No</td>\n",
              "      <td>No</td>\n",
              "      <td>No</td>\n",
              "      <td>One year</td>\n",
              "      <td>No</td>\n",
              "      <td>Mailed check</td>\n",
              "      <td>56.95</td>\n",
              "      <td>1889.5</td>\n",
              "      <td>No</td>\n",
              "    </tr>\n",
              "    <tr>\n",
              "      <th>2</th>\n",
              "      <td>3668-QPYBK</td>\n",
              "      <td>Male</td>\n",
              "      <td>0</td>\n",
              "      <td>No</td>\n",
              "      <td>No</td>\n",
              "      <td>2</td>\n",
              "      <td>Yes</td>\n",
              "      <td>No</td>\n",
              "      <td>DSL</td>\n",
              "      <td>Yes</td>\n",
              "      <td>Yes</td>\n",
              "      <td>No</td>\n",
              "      <td>No</td>\n",
              "      <td>No</td>\n",
              "      <td>No</td>\n",
              "      <td>Month-to-month</td>\n",
              "      <td>Yes</td>\n",
              "      <td>Mailed check</td>\n",
              "      <td>53.85</td>\n",
              "      <td>108.15</td>\n",
              "      <td>Yes</td>\n",
              "    </tr>\n",
              "    <tr>\n",
              "      <th>3</th>\n",
              "      <td>7795-CFOCW</td>\n",
              "      <td>Male</td>\n",
              "      <td>0</td>\n",
              "      <td>No</td>\n",
              "      <td>No</td>\n",
              "      <td>45</td>\n",
              "      <td>No</td>\n",
              "      <td>No phone service</td>\n",
              "      <td>DSL</td>\n",
              "      <td>Yes</td>\n",
              "      <td>No</td>\n",
              "      <td>Yes</td>\n",
              "      <td>Yes</td>\n",
              "      <td>No</td>\n",
              "      <td>No</td>\n",
              "      <td>One year</td>\n",
              "      <td>No</td>\n",
              "      <td>Bank transfer (automatic)</td>\n",
              "      <td>42.30</td>\n",
              "      <td>1840.75</td>\n",
              "      <td>No</td>\n",
              "    </tr>\n",
              "    <tr>\n",
              "      <th>4</th>\n",
              "      <td>9237-HQITU</td>\n",
              "      <td>Female</td>\n",
              "      <td>0</td>\n",
              "      <td>No</td>\n",
              "      <td>No</td>\n",
              "      <td>2</td>\n",
              "      <td>Yes</td>\n",
              "      <td>No</td>\n",
              "      <td>Fiber optic</td>\n",
              "      <td>No</td>\n",
              "      <td>No</td>\n",
              "      <td>No</td>\n",
              "      <td>No</td>\n",
              "      <td>No</td>\n",
              "      <td>No</td>\n",
              "      <td>Month-to-month</td>\n",
              "      <td>Yes</td>\n",
              "      <td>Electronic check</td>\n",
              "      <td>70.70</td>\n",
              "      <td>151.65</td>\n",
              "      <td>Yes</td>\n",
              "    </tr>\n",
              "  </tbody>\n",
              "</table>\n",
              "</div>"
            ],
            "text/plain": [
              "   customerID  gender  SeniorCitizen  ... MonthlyCharges TotalCharges  Churn\n",
              "0  7590-VHVEG  Female              0  ...          29.85        29.85     No\n",
              "1  5575-GNVDE    Male              0  ...          56.95       1889.5     No\n",
              "2  3668-QPYBK    Male              0  ...          53.85       108.15    Yes\n",
              "3  7795-CFOCW    Male              0  ...          42.30      1840.75     No\n",
              "4  9237-HQITU  Female              0  ...          70.70       151.65    Yes\n",
              "\n",
              "[5 rows x 21 columns]"
            ]
          },
          "metadata": {
            "tags": []
          },
          "execution_count": 3
        }
      ]
    },
    {
      "cell_type": "markdown",
      "metadata": {
        "id": "EVGnFoKIPQ2B"
      },
      "source": [
        "### Understanding the data"
      ]
    },
    {
      "cell_type": "code",
      "metadata": {
        "colab": {
          "base_uri": "https://localhost:8080/"
        },
        "id": "ygfZFIxQPQ2C",
        "outputId": "1771c388-f149-498c-cf48-ad3b1d69731d"
      },
      "source": [
        "# Check for columns having null values\r\n",
        "df.info()"
      ],
      "execution_count": null,
      "outputs": [
        {
          "output_type": "stream",
          "text": [
            "<class 'pandas.core.frame.DataFrame'>\n",
            "RangeIndex: 7043 entries, 0 to 7042\n",
            "Data columns (total 21 columns):\n",
            " #   Column            Non-Null Count  Dtype  \n",
            "---  ------            --------------  -----  \n",
            " 0   customerID        7043 non-null   object \n",
            " 1   gender            7043 non-null   object \n",
            " 2   SeniorCitizen     7043 non-null   int64  \n",
            " 3   Partner           7043 non-null   object \n",
            " 4   Dependents        7043 non-null   object \n",
            " 5   tenure            7043 non-null   int64  \n",
            " 6   PhoneService      7043 non-null   object \n",
            " 7   MultipleLines     7043 non-null   object \n",
            " 8   InternetService   7043 non-null   object \n",
            " 9   OnlineSecurity    7043 non-null   object \n",
            " 10  OnlineBackup      7043 non-null   object \n",
            " 11  DeviceProtection  7043 non-null   object \n",
            " 12  TechSupport       7043 non-null   object \n",
            " 13  StreamingTV       7043 non-null   object \n",
            " 14  StreamingMovies   7043 non-null   object \n",
            " 15  Contract          7043 non-null   object \n",
            " 16  PaperlessBilling  7043 non-null   object \n",
            " 17  PaymentMethod     7043 non-null   object \n",
            " 18  MonthlyCharges    7043 non-null   float64\n",
            " 19  TotalCharges      7043 non-null   object \n",
            " 20  Churn             7043 non-null   object \n",
            "dtypes: float64(1), int64(2), object(18)\n",
            "memory usage: 1.1+ MB\n"
          ],
          "name": "stdout"
        }
      ]
    },
    {
      "cell_type": "code",
      "metadata": {
        "id": "kGMctFtcgCou"
      },
      "source": [
        "# Replace empty values with NaN\r\n",
        "df[df.loc[:,:] == ' '] = np.NaN"
      ],
      "execution_count": null,
      "outputs": []
    },
    {
      "cell_type": "code",
      "metadata": {
        "colab": {
          "base_uri": "https://localhost:8080/"
        },
        "id": "UXaa0fLCgOjF",
        "outputId": "c2e041a1-5ba6-46f8-d64c-bea2289ec20d"
      },
      "source": [
        "# Now check if NaN values (formerly empty values) are present\r\n",
        "df.isna().any()"
      ],
      "execution_count": null,
      "outputs": [
        {
          "output_type": "execute_result",
          "data": {
            "text/plain": [
              "customerID          False\n",
              "gender              False\n",
              "SeniorCitizen       False\n",
              "Partner             False\n",
              "Dependents          False\n",
              "tenure              False\n",
              "PhoneService        False\n",
              "MultipleLines       False\n",
              "InternetService     False\n",
              "OnlineSecurity      False\n",
              "OnlineBackup        False\n",
              "DeviceProtection    False\n",
              "TechSupport         False\n",
              "StreamingTV         False\n",
              "StreamingMovies     False\n",
              "Contract            False\n",
              "PaperlessBilling    False\n",
              "PaymentMethod       False\n",
              "MonthlyCharges      False\n",
              "TotalCharges         True\n",
              "Churn               False\n",
              "dtype: bool"
            ]
          },
          "metadata": {
            "tags": []
          },
          "execution_count": 6
        }
      ]
    },
    {
      "cell_type": "code",
      "metadata": {
        "colab": {
          "base_uri": "https://localhost:8080/"
        },
        "id": "eUwYmR3_ghcj",
        "outputId": "2a1d3d3d-ca3b-49cf-f63d-f74ad18e8f9e"
      },
      "source": [
        "# Count NaN values present in the columns\r\n",
        "df.isna().sum()"
      ],
      "execution_count": null,
      "outputs": [
        {
          "output_type": "execute_result",
          "data": {
            "text/plain": [
              "customerID           0\n",
              "gender               0\n",
              "SeniorCitizen        0\n",
              "Partner              0\n",
              "Dependents           0\n",
              "tenure               0\n",
              "PhoneService         0\n",
              "MultipleLines        0\n",
              "InternetService      0\n",
              "OnlineSecurity       0\n",
              "OnlineBackup         0\n",
              "DeviceProtection     0\n",
              "TechSupport          0\n",
              "StreamingTV          0\n",
              "StreamingMovies      0\n",
              "Contract             0\n",
              "PaperlessBilling     0\n",
              "PaymentMethod        0\n",
              "MonthlyCharges       0\n",
              "TotalCharges        11\n",
              "Churn                0\n",
              "dtype: int64"
            ]
          },
          "metadata": {
            "tags": []
          },
          "execution_count": 7
        }
      ]
    },
    {
      "cell_type": "code",
      "metadata": {
        "colab": {
          "base_uri": "https://localhost:8080/"
        },
        "id": "gsoBUeBnPQ2C",
        "outputId": "a28a93a3-9962-47f0-a1c4-4fb29de8112c"
      },
      "source": [
        "# Display the rows having NaN values in TotalCharges column\r\n",
        "print(df[df.isna().any(axis=1)])"
      ],
      "execution_count": null,
      "outputs": [
        {
          "output_type": "stream",
          "text": [
            "      customerID  gender  SeniorCitizen  ... MonthlyCharges TotalCharges  Churn\n",
            "488   4472-LVYGI  Female              0  ...          52.55          NaN     No\n",
            "753   3115-CZMZD    Male              0  ...          20.25          NaN     No\n",
            "936   5709-LVOEQ  Female              0  ...          80.85          NaN     No\n",
            "1082  4367-NUYAO    Male              0  ...          25.75          NaN     No\n",
            "1340  1371-DWPAZ  Female              0  ...          56.05          NaN     No\n",
            "3331  7644-OMVMY    Male              0  ...          19.85          NaN     No\n",
            "3826  3213-VVOLG    Male              0  ...          25.35          NaN     No\n",
            "4380  2520-SGTTA  Female              0  ...          20.00          NaN     No\n",
            "5218  2923-ARZLG    Male              0  ...          19.70          NaN     No\n",
            "6670  4075-WKNIU  Female              0  ...          73.35          NaN     No\n",
            "6754  2775-SEFEE    Male              0  ...          61.90          NaN     No\n",
            "\n",
            "[11 rows x 21 columns]\n"
          ],
          "name": "stdout"
        }
      ]
    },
    {
      "cell_type": "markdown",
      "metadata": {
        "id": "DoI-up0wPQ2D"
      },
      "source": [
        "### Data Manipulation"
      ]
    },
    {
      "cell_type": "code",
      "metadata": {
        "colab": {
          "base_uri": "https://localhost:8080/",
          "height": 579
        },
        "id": "v1oiQZlPPQ2D",
        "outputId": "5f9ec421-e733-471a-b638-81e5482d9768"
      },
      "source": [
        "# Dealing with NaN values\r\n",
        "display(df[df.isna().any(axis=1)])"
      ],
      "execution_count": null,
      "outputs": [
        {
          "output_type": "display_data",
          "data": {
            "text/html": [
              "<div>\n",
              "<style scoped>\n",
              "    .dataframe tbody tr th:only-of-type {\n",
              "        vertical-align: middle;\n",
              "    }\n",
              "\n",
              "    .dataframe tbody tr th {\n",
              "        vertical-align: top;\n",
              "    }\n",
              "\n",
              "    .dataframe thead th {\n",
              "        text-align: right;\n",
              "    }\n",
              "</style>\n",
              "<table border=\"1\" class=\"dataframe\">\n",
              "  <thead>\n",
              "    <tr style=\"text-align: right;\">\n",
              "      <th></th>\n",
              "      <th>customerID</th>\n",
              "      <th>gender</th>\n",
              "      <th>SeniorCitizen</th>\n",
              "      <th>Partner</th>\n",
              "      <th>Dependents</th>\n",
              "      <th>tenure</th>\n",
              "      <th>PhoneService</th>\n",
              "      <th>MultipleLines</th>\n",
              "      <th>InternetService</th>\n",
              "      <th>OnlineSecurity</th>\n",
              "      <th>OnlineBackup</th>\n",
              "      <th>DeviceProtection</th>\n",
              "      <th>TechSupport</th>\n",
              "      <th>StreamingTV</th>\n",
              "      <th>StreamingMovies</th>\n",
              "      <th>Contract</th>\n",
              "      <th>PaperlessBilling</th>\n",
              "      <th>PaymentMethod</th>\n",
              "      <th>MonthlyCharges</th>\n",
              "      <th>TotalCharges</th>\n",
              "      <th>Churn</th>\n",
              "    </tr>\n",
              "  </thead>\n",
              "  <tbody>\n",
              "    <tr>\n",
              "      <th>488</th>\n",
              "      <td>4472-LVYGI</td>\n",
              "      <td>Female</td>\n",
              "      <td>0</td>\n",
              "      <td>Yes</td>\n",
              "      <td>Yes</td>\n",
              "      <td>0</td>\n",
              "      <td>No</td>\n",
              "      <td>No phone service</td>\n",
              "      <td>DSL</td>\n",
              "      <td>Yes</td>\n",
              "      <td>No</td>\n",
              "      <td>Yes</td>\n",
              "      <td>Yes</td>\n",
              "      <td>Yes</td>\n",
              "      <td>No</td>\n",
              "      <td>Two year</td>\n",
              "      <td>Yes</td>\n",
              "      <td>Bank transfer (automatic)</td>\n",
              "      <td>52.55</td>\n",
              "      <td>NaN</td>\n",
              "      <td>No</td>\n",
              "    </tr>\n",
              "    <tr>\n",
              "      <th>753</th>\n",
              "      <td>3115-CZMZD</td>\n",
              "      <td>Male</td>\n",
              "      <td>0</td>\n",
              "      <td>No</td>\n",
              "      <td>Yes</td>\n",
              "      <td>0</td>\n",
              "      <td>Yes</td>\n",
              "      <td>No</td>\n",
              "      <td>No</td>\n",
              "      <td>No internet service</td>\n",
              "      <td>No internet service</td>\n",
              "      <td>No internet service</td>\n",
              "      <td>No internet service</td>\n",
              "      <td>No internet service</td>\n",
              "      <td>No internet service</td>\n",
              "      <td>Two year</td>\n",
              "      <td>No</td>\n",
              "      <td>Mailed check</td>\n",
              "      <td>20.25</td>\n",
              "      <td>NaN</td>\n",
              "      <td>No</td>\n",
              "    </tr>\n",
              "    <tr>\n",
              "      <th>936</th>\n",
              "      <td>5709-LVOEQ</td>\n",
              "      <td>Female</td>\n",
              "      <td>0</td>\n",
              "      <td>Yes</td>\n",
              "      <td>Yes</td>\n",
              "      <td>0</td>\n",
              "      <td>Yes</td>\n",
              "      <td>No</td>\n",
              "      <td>DSL</td>\n",
              "      <td>Yes</td>\n",
              "      <td>Yes</td>\n",
              "      <td>Yes</td>\n",
              "      <td>No</td>\n",
              "      <td>Yes</td>\n",
              "      <td>Yes</td>\n",
              "      <td>Two year</td>\n",
              "      <td>No</td>\n",
              "      <td>Mailed check</td>\n",
              "      <td>80.85</td>\n",
              "      <td>NaN</td>\n",
              "      <td>No</td>\n",
              "    </tr>\n",
              "    <tr>\n",
              "      <th>1082</th>\n",
              "      <td>4367-NUYAO</td>\n",
              "      <td>Male</td>\n",
              "      <td>0</td>\n",
              "      <td>Yes</td>\n",
              "      <td>Yes</td>\n",
              "      <td>0</td>\n",
              "      <td>Yes</td>\n",
              "      <td>Yes</td>\n",
              "      <td>No</td>\n",
              "      <td>No internet service</td>\n",
              "      <td>No internet service</td>\n",
              "      <td>No internet service</td>\n",
              "      <td>No internet service</td>\n",
              "      <td>No internet service</td>\n",
              "      <td>No internet service</td>\n",
              "      <td>Two year</td>\n",
              "      <td>No</td>\n",
              "      <td>Mailed check</td>\n",
              "      <td>25.75</td>\n",
              "      <td>NaN</td>\n",
              "      <td>No</td>\n",
              "    </tr>\n",
              "    <tr>\n",
              "      <th>1340</th>\n",
              "      <td>1371-DWPAZ</td>\n",
              "      <td>Female</td>\n",
              "      <td>0</td>\n",
              "      <td>Yes</td>\n",
              "      <td>Yes</td>\n",
              "      <td>0</td>\n",
              "      <td>No</td>\n",
              "      <td>No phone service</td>\n",
              "      <td>DSL</td>\n",
              "      <td>Yes</td>\n",
              "      <td>Yes</td>\n",
              "      <td>Yes</td>\n",
              "      <td>Yes</td>\n",
              "      <td>Yes</td>\n",
              "      <td>No</td>\n",
              "      <td>Two year</td>\n",
              "      <td>No</td>\n",
              "      <td>Credit card (automatic)</td>\n",
              "      <td>56.05</td>\n",
              "      <td>NaN</td>\n",
              "      <td>No</td>\n",
              "    </tr>\n",
              "    <tr>\n",
              "      <th>3331</th>\n",
              "      <td>7644-OMVMY</td>\n",
              "      <td>Male</td>\n",
              "      <td>0</td>\n",
              "      <td>Yes</td>\n",
              "      <td>Yes</td>\n",
              "      <td>0</td>\n",
              "      <td>Yes</td>\n",
              "      <td>No</td>\n",
              "      <td>No</td>\n",
              "      <td>No internet service</td>\n",
              "      <td>No internet service</td>\n",
              "      <td>No internet service</td>\n",
              "      <td>No internet service</td>\n",
              "      <td>No internet service</td>\n",
              "      <td>No internet service</td>\n",
              "      <td>Two year</td>\n",
              "      <td>No</td>\n",
              "      <td>Mailed check</td>\n",
              "      <td>19.85</td>\n",
              "      <td>NaN</td>\n",
              "      <td>No</td>\n",
              "    </tr>\n",
              "    <tr>\n",
              "      <th>3826</th>\n",
              "      <td>3213-VVOLG</td>\n",
              "      <td>Male</td>\n",
              "      <td>0</td>\n",
              "      <td>Yes</td>\n",
              "      <td>Yes</td>\n",
              "      <td>0</td>\n",
              "      <td>Yes</td>\n",
              "      <td>Yes</td>\n",
              "      <td>No</td>\n",
              "      <td>No internet service</td>\n",
              "      <td>No internet service</td>\n",
              "      <td>No internet service</td>\n",
              "      <td>No internet service</td>\n",
              "      <td>No internet service</td>\n",
              "      <td>No internet service</td>\n",
              "      <td>Two year</td>\n",
              "      <td>No</td>\n",
              "      <td>Mailed check</td>\n",
              "      <td>25.35</td>\n",
              "      <td>NaN</td>\n",
              "      <td>No</td>\n",
              "    </tr>\n",
              "    <tr>\n",
              "      <th>4380</th>\n",
              "      <td>2520-SGTTA</td>\n",
              "      <td>Female</td>\n",
              "      <td>0</td>\n",
              "      <td>Yes</td>\n",
              "      <td>Yes</td>\n",
              "      <td>0</td>\n",
              "      <td>Yes</td>\n",
              "      <td>No</td>\n",
              "      <td>No</td>\n",
              "      <td>No internet service</td>\n",
              "      <td>No internet service</td>\n",
              "      <td>No internet service</td>\n",
              "      <td>No internet service</td>\n",
              "      <td>No internet service</td>\n",
              "      <td>No internet service</td>\n",
              "      <td>Two year</td>\n",
              "      <td>No</td>\n",
              "      <td>Mailed check</td>\n",
              "      <td>20.00</td>\n",
              "      <td>NaN</td>\n",
              "      <td>No</td>\n",
              "    </tr>\n",
              "    <tr>\n",
              "      <th>5218</th>\n",
              "      <td>2923-ARZLG</td>\n",
              "      <td>Male</td>\n",
              "      <td>0</td>\n",
              "      <td>Yes</td>\n",
              "      <td>Yes</td>\n",
              "      <td>0</td>\n",
              "      <td>Yes</td>\n",
              "      <td>No</td>\n",
              "      <td>No</td>\n",
              "      <td>No internet service</td>\n",
              "      <td>No internet service</td>\n",
              "      <td>No internet service</td>\n",
              "      <td>No internet service</td>\n",
              "      <td>No internet service</td>\n",
              "      <td>No internet service</td>\n",
              "      <td>One year</td>\n",
              "      <td>Yes</td>\n",
              "      <td>Mailed check</td>\n",
              "      <td>19.70</td>\n",
              "      <td>NaN</td>\n",
              "      <td>No</td>\n",
              "    </tr>\n",
              "    <tr>\n",
              "      <th>6670</th>\n",
              "      <td>4075-WKNIU</td>\n",
              "      <td>Female</td>\n",
              "      <td>0</td>\n",
              "      <td>Yes</td>\n",
              "      <td>Yes</td>\n",
              "      <td>0</td>\n",
              "      <td>Yes</td>\n",
              "      <td>Yes</td>\n",
              "      <td>DSL</td>\n",
              "      <td>No</td>\n",
              "      <td>Yes</td>\n",
              "      <td>Yes</td>\n",
              "      <td>Yes</td>\n",
              "      <td>Yes</td>\n",
              "      <td>No</td>\n",
              "      <td>Two year</td>\n",
              "      <td>No</td>\n",
              "      <td>Mailed check</td>\n",
              "      <td>73.35</td>\n",
              "      <td>NaN</td>\n",
              "      <td>No</td>\n",
              "    </tr>\n",
              "    <tr>\n",
              "      <th>6754</th>\n",
              "      <td>2775-SEFEE</td>\n",
              "      <td>Male</td>\n",
              "      <td>0</td>\n",
              "      <td>No</td>\n",
              "      <td>Yes</td>\n",
              "      <td>0</td>\n",
              "      <td>Yes</td>\n",
              "      <td>Yes</td>\n",
              "      <td>DSL</td>\n",
              "      <td>Yes</td>\n",
              "      <td>Yes</td>\n",
              "      <td>No</td>\n",
              "      <td>Yes</td>\n",
              "      <td>No</td>\n",
              "      <td>No</td>\n",
              "      <td>Two year</td>\n",
              "      <td>Yes</td>\n",
              "      <td>Bank transfer (automatic)</td>\n",
              "      <td>61.90</td>\n",
              "      <td>NaN</td>\n",
              "      <td>No</td>\n",
              "    </tr>\n",
              "  </tbody>\n",
              "</table>\n",
              "</div>"
            ],
            "text/plain": [
              "      customerID  gender  SeniorCitizen  ... MonthlyCharges TotalCharges  Churn\n",
              "488   4472-LVYGI  Female              0  ...          52.55          NaN     No\n",
              "753   3115-CZMZD    Male              0  ...          20.25          NaN     No\n",
              "936   5709-LVOEQ  Female              0  ...          80.85          NaN     No\n",
              "1082  4367-NUYAO    Male              0  ...          25.75          NaN     No\n",
              "1340  1371-DWPAZ  Female              0  ...          56.05          NaN     No\n",
              "3331  7644-OMVMY    Male              0  ...          19.85          NaN     No\n",
              "3826  3213-VVOLG    Male              0  ...          25.35          NaN     No\n",
              "4380  2520-SGTTA  Female              0  ...          20.00          NaN     No\n",
              "5218  2923-ARZLG    Male              0  ...          19.70          NaN     No\n",
              "6670  4075-WKNIU  Female              0  ...          73.35          NaN     No\n",
              "6754  2775-SEFEE    Male              0  ...          61.90          NaN     No\n",
              "\n",
              "[11 rows x 21 columns]"
            ]
          },
          "metadata": {
            "tags": []
          }
        }
      ]
    },
    {
      "cell_type": "markdown",
      "metadata": {
        "id": "OWCRDiX4-o7B"
      },
      "source": [
        "**Options considered to deal with NaN values under TotalCharges column:**\r\n",
        "\r\n",
        "1. Multiply monthly charges with customer's tenure to get approximate total charges values. Since tenure length is also zero for these customers, so this option wasn't utilized.\r\n",
        "2. Replace NaNs with mean/scalar values. But the data is not ordered along that column for this operation to be feasible.\r\n",
        "3. Drop 11 out of 7043 rows containing NaN values. This operation removes an extremely small amount of data at relatively no cost to further analysis.\r\n",
        "\r\n"
      ]
    },
    {
      "cell_type": "code",
      "metadata": {
        "id": "723FR_o8PQ2E"
      },
      "source": [
        "# Drop the NaN values and adjust the indexing\r\n",
        "df = df.dropna().reset_index(drop=True)"
      ],
      "execution_count": null,
      "outputs": []
    },
    {
      "cell_type": "markdown",
      "metadata": {
        "id": "mmFpQeRra-Ss"
      },
      "source": [
        "**Data pre-processing**"
      ]
    },
    {
      "cell_type": "code",
      "metadata": {
        "colab": {
          "base_uri": "https://localhost:8080/",
          "height": 283
        },
        "id": "PAo3dNJSDBkX",
        "outputId": "f30ce388-31df-4179-b0a8-32e3da11dd5c"
      },
      "source": [
        "# Copy the original dataframe to a new one without the customerID column\r\n",
        "df1 = df.iloc[:,1:].copy()\r\n",
        "df1.head()"
      ],
      "execution_count": null,
      "outputs": [
        {
          "output_type": "execute_result",
          "data": {
            "text/html": [
              "<div>\n",
              "<style scoped>\n",
              "    .dataframe tbody tr th:only-of-type {\n",
              "        vertical-align: middle;\n",
              "    }\n",
              "\n",
              "    .dataframe tbody tr th {\n",
              "        vertical-align: top;\n",
              "    }\n",
              "\n",
              "    .dataframe thead th {\n",
              "        text-align: right;\n",
              "    }\n",
              "</style>\n",
              "<table border=\"1\" class=\"dataframe\">\n",
              "  <thead>\n",
              "    <tr style=\"text-align: right;\">\n",
              "      <th></th>\n",
              "      <th>gender</th>\n",
              "      <th>SeniorCitizen</th>\n",
              "      <th>Partner</th>\n",
              "      <th>Dependents</th>\n",
              "      <th>tenure</th>\n",
              "      <th>PhoneService</th>\n",
              "      <th>MultipleLines</th>\n",
              "      <th>InternetService</th>\n",
              "      <th>OnlineSecurity</th>\n",
              "      <th>OnlineBackup</th>\n",
              "      <th>DeviceProtection</th>\n",
              "      <th>TechSupport</th>\n",
              "      <th>StreamingTV</th>\n",
              "      <th>StreamingMovies</th>\n",
              "      <th>Contract</th>\n",
              "      <th>PaperlessBilling</th>\n",
              "      <th>PaymentMethod</th>\n",
              "      <th>MonthlyCharges</th>\n",
              "      <th>TotalCharges</th>\n",
              "      <th>Churn</th>\n",
              "    </tr>\n",
              "  </thead>\n",
              "  <tbody>\n",
              "    <tr>\n",
              "      <th>0</th>\n",
              "      <td>Female</td>\n",
              "      <td>0</td>\n",
              "      <td>Yes</td>\n",
              "      <td>No</td>\n",
              "      <td>1</td>\n",
              "      <td>No</td>\n",
              "      <td>No phone service</td>\n",
              "      <td>DSL</td>\n",
              "      <td>No</td>\n",
              "      <td>Yes</td>\n",
              "      <td>No</td>\n",
              "      <td>No</td>\n",
              "      <td>No</td>\n",
              "      <td>No</td>\n",
              "      <td>Month-to-month</td>\n",
              "      <td>Yes</td>\n",
              "      <td>Electronic check</td>\n",
              "      <td>29.85</td>\n",
              "      <td>29.85</td>\n",
              "      <td>No</td>\n",
              "    </tr>\n",
              "    <tr>\n",
              "      <th>1</th>\n",
              "      <td>Male</td>\n",
              "      <td>0</td>\n",
              "      <td>No</td>\n",
              "      <td>No</td>\n",
              "      <td>34</td>\n",
              "      <td>Yes</td>\n",
              "      <td>No</td>\n",
              "      <td>DSL</td>\n",
              "      <td>Yes</td>\n",
              "      <td>No</td>\n",
              "      <td>Yes</td>\n",
              "      <td>No</td>\n",
              "      <td>No</td>\n",
              "      <td>No</td>\n",
              "      <td>One year</td>\n",
              "      <td>No</td>\n",
              "      <td>Mailed check</td>\n",
              "      <td>56.95</td>\n",
              "      <td>1889.5</td>\n",
              "      <td>No</td>\n",
              "    </tr>\n",
              "    <tr>\n",
              "      <th>2</th>\n",
              "      <td>Male</td>\n",
              "      <td>0</td>\n",
              "      <td>No</td>\n",
              "      <td>No</td>\n",
              "      <td>2</td>\n",
              "      <td>Yes</td>\n",
              "      <td>No</td>\n",
              "      <td>DSL</td>\n",
              "      <td>Yes</td>\n",
              "      <td>Yes</td>\n",
              "      <td>No</td>\n",
              "      <td>No</td>\n",
              "      <td>No</td>\n",
              "      <td>No</td>\n",
              "      <td>Month-to-month</td>\n",
              "      <td>Yes</td>\n",
              "      <td>Mailed check</td>\n",
              "      <td>53.85</td>\n",
              "      <td>108.15</td>\n",
              "      <td>Yes</td>\n",
              "    </tr>\n",
              "    <tr>\n",
              "      <th>3</th>\n",
              "      <td>Male</td>\n",
              "      <td>0</td>\n",
              "      <td>No</td>\n",
              "      <td>No</td>\n",
              "      <td>45</td>\n",
              "      <td>No</td>\n",
              "      <td>No phone service</td>\n",
              "      <td>DSL</td>\n",
              "      <td>Yes</td>\n",
              "      <td>No</td>\n",
              "      <td>Yes</td>\n",
              "      <td>Yes</td>\n",
              "      <td>No</td>\n",
              "      <td>No</td>\n",
              "      <td>One year</td>\n",
              "      <td>No</td>\n",
              "      <td>Bank transfer (automatic)</td>\n",
              "      <td>42.30</td>\n",
              "      <td>1840.75</td>\n",
              "      <td>No</td>\n",
              "    </tr>\n",
              "    <tr>\n",
              "      <th>4</th>\n",
              "      <td>Female</td>\n",
              "      <td>0</td>\n",
              "      <td>No</td>\n",
              "      <td>No</td>\n",
              "      <td>2</td>\n",
              "      <td>Yes</td>\n",
              "      <td>No</td>\n",
              "      <td>Fiber optic</td>\n",
              "      <td>No</td>\n",
              "      <td>No</td>\n",
              "      <td>No</td>\n",
              "      <td>No</td>\n",
              "      <td>No</td>\n",
              "      <td>No</td>\n",
              "      <td>Month-to-month</td>\n",
              "      <td>Yes</td>\n",
              "      <td>Electronic check</td>\n",
              "      <td>70.70</td>\n",
              "      <td>151.65</td>\n",
              "      <td>Yes</td>\n",
              "    </tr>\n",
              "  </tbody>\n",
              "</table>\n",
              "</div>"
            ],
            "text/plain": [
              "   gender  SeniorCitizen Partner  ... MonthlyCharges  TotalCharges Churn\n",
              "0  Female              0     Yes  ...          29.85         29.85    No\n",
              "1    Male              0      No  ...          56.95        1889.5    No\n",
              "2    Male              0      No  ...          53.85        108.15   Yes\n",
              "3    Male              0      No  ...          42.30       1840.75    No\n",
              "4  Female              0      No  ...          70.70        151.65   Yes\n",
              "\n",
              "[5 rows x 20 columns]"
            ]
          },
          "metadata": {
            "tags": []
          },
          "execution_count": 13
        }
      ]
    },
    {
      "cell_type": "code",
      "metadata": {
        "colab": {
          "base_uri": "https://localhost:8080/",
          "height": 365
        },
        "id": "c9YTK5-yS7sh",
        "outputId": "2e31af1e-4b64-4f6c-8188-dc40acf2e2fd"
      },
      "source": [
        "# Label encoding the selected columns in the copy dataframe for statistical analysis\r\n",
        "label_encoder = preprocessing.LabelEncoder()\r\n",
        "cols = [0,2,3,5,6,7,8,9,10,11,12,13,14,15,16,19]\r\n",
        "\r\n",
        "for i in df1.columns[cols]:\r\n",
        "  df1[i] = label_encoder.fit_transform(df1[i])\r\n",
        "\r\n",
        "# Convert TotalCharges column to float type, similar to MonthlyCharges column\r\n",
        "df1['TotalCharges'] = df1['TotalCharges'].astype(float)\r\n",
        "df1.head(10)"
      ],
      "execution_count": null,
      "outputs": [
        {
          "output_type": "execute_result",
          "data": {
            "text/html": [
              "<div>\n",
              "<style scoped>\n",
              "    .dataframe tbody tr th:only-of-type {\n",
              "        vertical-align: middle;\n",
              "    }\n",
              "\n",
              "    .dataframe tbody tr th {\n",
              "        vertical-align: top;\n",
              "    }\n",
              "\n",
              "    .dataframe thead th {\n",
              "        text-align: right;\n",
              "    }\n",
              "</style>\n",
              "<table border=\"1\" class=\"dataframe\">\n",
              "  <thead>\n",
              "    <tr style=\"text-align: right;\">\n",
              "      <th></th>\n",
              "      <th>gender</th>\n",
              "      <th>SeniorCitizen</th>\n",
              "      <th>Partner</th>\n",
              "      <th>Dependents</th>\n",
              "      <th>tenure</th>\n",
              "      <th>PhoneService</th>\n",
              "      <th>MultipleLines</th>\n",
              "      <th>InternetService</th>\n",
              "      <th>OnlineSecurity</th>\n",
              "      <th>OnlineBackup</th>\n",
              "      <th>DeviceProtection</th>\n",
              "      <th>TechSupport</th>\n",
              "      <th>StreamingTV</th>\n",
              "      <th>StreamingMovies</th>\n",
              "      <th>Contract</th>\n",
              "      <th>PaperlessBilling</th>\n",
              "      <th>PaymentMethod</th>\n",
              "      <th>MonthlyCharges</th>\n",
              "      <th>TotalCharges</th>\n",
              "      <th>Churn</th>\n",
              "    </tr>\n",
              "  </thead>\n",
              "  <tbody>\n",
              "    <tr>\n",
              "      <th>0</th>\n",
              "      <td>0</td>\n",
              "      <td>0</td>\n",
              "      <td>1</td>\n",
              "      <td>0</td>\n",
              "      <td>1</td>\n",
              "      <td>0</td>\n",
              "      <td>1</td>\n",
              "      <td>0</td>\n",
              "      <td>0</td>\n",
              "      <td>2</td>\n",
              "      <td>0</td>\n",
              "      <td>0</td>\n",
              "      <td>0</td>\n",
              "      <td>0</td>\n",
              "      <td>0</td>\n",
              "      <td>1</td>\n",
              "      <td>2</td>\n",
              "      <td>29.85</td>\n",
              "      <td>29.85</td>\n",
              "      <td>0</td>\n",
              "    </tr>\n",
              "    <tr>\n",
              "      <th>1</th>\n",
              "      <td>1</td>\n",
              "      <td>0</td>\n",
              "      <td>0</td>\n",
              "      <td>0</td>\n",
              "      <td>34</td>\n",
              "      <td>1</td>\n",
              "      <td>0</td>\n",
              "      <td>0</td>\n",
              "      <td>2</td>\n",
              "      <td>0</td>\n",
              "      <td>2</td>\n",
              "      <td>0</td>\n",
              "      <td>0</td>\n",
              "      <td>0</td>\n",
              "      <td>1</td>\n",
              "      <td>0</td>\n",
              "      <td>3</td>\n",
              "      <td>56.95</td>\n",
              "      <td>1889.50</td>\n",
              "      <td>0</td>\n",
              "    </tr>\n",
              "    <tr>\n",
              "      <th>2</th>\n",
              "      <td>1</td>\n",
              "      <td>0</td>\n",
              "      <td>0</td>\n",
              "      <td>0</td>\n",
              "      <td>2</td>\n",
              "      <td>1</td>\n",
              "      <td>0</td>\n",
              "      <td>0</td>\n",
              "      <td>2</td>\n",
              "      <td>2</td>\n",
              "      <td>0</td>\n",
              "      <td>0</td>\n",
              "      <td>0</td>\n",
              "      <td>0</td>\n",
              "      <td>0</td>\n",
              "      <td>1</td>\n",
              "      <td>3</td>\n",
              "      <td>53.85</td>\n",
              "      <td>108.15</td>\n",
              "      <td>1</td>\n",
              "    </tr>\n",
              "    <tr>\n",
              "      <th>3</th>\n",
              "      <td>1</td>\n",
              "      <td>0</td>\n",
              "      <td>0</td>\n",
              "      <td>0</td>\n",
              "      <td>45</td>\n",
              "      <td>0</td>\n",
              "      <td>1</td>\n",
              "      <td>0</td>\n",
              "      <td>2</td>\n",
              "      <td>0</td>\n",
              "      <td>2</td>\n",
              "      <td>2</td>\n",
              "      <td>0</td>\n",
              "      <td>0</td>\n",
              "      <td>1</td>\n",
              "      <td>0</td>\n",
              "      <td>0</td>\n",
              "      <td>42.30</td>\n",
              "      <td>1840.75</td>\n",
              "      <td>0</td>\n",
              "    </tr>\n",
              "    <tr>\n",
              "      <th>4</th>\n",
              "      <td>0</td>\n",
              "      <td>0</td>\n",
              "      <td>0</td>\n",
              "      <td>0</td>\n",
              "      <td>2</td>\n",
              "      <td>1</td>\n",
              "      <td>0</td>\n",
              "      <td>1</td>\n",
              "      <td>0</td>\n",
              "      <td>0</td>\n",
              "      <td>0</td>\n",
              "      <td>0</td>\n",
              "      <td>0</td>\n",
              "      <td>0</td>\n",
              "      <td>0</td>\n",
              "      <td>1</td>\n",
              "      <td>2</td>\n",
              "      <td>70.70</td>\n",
              "      <td>151.65</td>\n",
              "      <td>1</td>\n",
              "    </tr>\n",
              "    <tr>\n",
              "      <th>5</th>\n",
              "      <td>0</td>\n",
              "      <td>0</td>\n",
              "      <td>0</td>\n",
              "      <td>0</td>\n",
              "      <td>8</td>\n",
              "      <td>1</td>\n",
              "      <td>2</td>\n",
              "      <td>1</td>\n",
              "      <td>0</td>\n",
              "      <td>0</td>\n",
              "      <td>2</td>\n",
              "      <td>0</td>\n",
              "      <td>2</td>\n",
              "      <td>2</td>\n",
              "      <td>0</td>\n",
              "      <td>1</td>\n",
              "      <td>2</td>\n",
              "      <td>99.65</td>\n",
              "      <td>820.50</td>\n",
              "      <td>1</td>\n",
              "    </tr>\n",
              "    <tr>\n",
              "      <th>6</th>\n",
              "      <td>1</td>\n",
              "      <td>0</td>\n",
              "      <td>0</td>\n",
              "      <td>1</td>\n",
              "      <td>22</td>\n",
              "      <td>1</td>\n",
              "      <td>2</td>\n",
              "      <td>1</td>\n",
              "      <td>0</td>\n",
              "      <td>2</td>\n",
              "      <td>0</td>\n",
              "      <td>0</td>\n",
              "      <td>2</td>\n",
              "      <td>0</td>\n",
              "      <td>0</td>\n",
              "      <td>1</td>\n",
              "      <td>1</td>\n",
              "      <td>89.10</td>\n",
              "      <td>1949.40</td>\n",
              "      <td>0</td>\n",
              "    </tr>\n",
              "    <tr>\n",
              "      <th>7</th>\n",
              "      <td>0</td>\n",
              "      <td>0</td>\n",
              "      <td>0</td>\n",
              "      <td>0</td>\n",
              "      <td>10</td>\n",
              "      <td>0</td>\n",
              "      <td>1</td>\n",
              "      <td>0</td>\n",
              "      <td>2</td>\n",
              "      <td>0</td>\n",
              "      <td>0</td>\n",
              "      <td>0</td>\n",
              "      <td>0</td>\n",
              "      <td>0</td>\n",
              "      <td>0</td>\n",
              "      <td>0</td>\n",
              "      <td>3</td>\n",
              "      <td>29.75</td>\n",
              "      <td>301.90</td>\n",
              "      <td>0</td>\n",
              "    </tr>\n",
              "    <tr>\n",
              "      <th>8</th>\n",
              "      <td>0</td>\n",
              "      <td>0</td>\n",
              "      <td>1</td>\n",
              "      <td>0</td>\n",
              "      <td>28</td>\n",
              "      <td>1</td>\n",
              "      <td>2</td>\n",
              "      <td>1</td>\n",
              "      <td>0</td>\n",
              "      <td>0</td>\n",
              "      <td>2</td>\n",
              "      <td>2</td>\n",
              "      <td>2</td>\n",
              "      <td>2</td>\n",
              "      <td>0</td>\n",
              "      <td>1</td>\n",
              "      <td>2</td>\n",
              "      <td>104.80</td>\n",
              "      <td>3046.05</td>\n",
              "      <td>1</td>\n",
              "    </tr>\n",
              "    <tr>\n",
              "      <th>9</th>\n",
              "      <td>1</td>\n",
              "      <td>0</td>\n",
              "      <td>0</td>\n",
              "      <td>1</td>\n",
              "      <td>62</td>\n",
              "      <td>1</td>\n",
              "      <td>0</td>\n",
              "      <td>0</td>\n",
              "      <td>2</td>\n",
              "      <td>2</td>\n",
              "      <td>0</td>\n",
              "      <td>0</td>\n",
              "      <td>0</td>\n",
              "      <td>0</td>\n",
              "      <td>1</td>\n",
              "      <td>0</td>\n",
              "      <td>0</td>\n",
              "      <td>56.15</td>\n",
              "      <td>3487.95</td>\n",
              "      <td>0</td>\n",
              "    </tr>\n",
              "  </tbody>\n",
              "</table>\n",
              "</div>"
            ],
            "text/plain": [
              "   gender  SeniorCitizen  Partner  ...  MonthlyCharges  TotalCharges  Churn\n",
              "0       0              0        1  ...           29.85         29.85      0\n",
              "1       1              0        0  ...           56.95       1889.50      0\n",
              "2       1              0        0  ...           53.85        108.15      1\n",
              "3       1              0        0  ...           42.30       1840.75      0\n",
              "4       0              0        0  ...           70.70        151.65      1\n",
              "5       0              0        0  ...           99.65        820.50      1\n",
              "6       1              0        0  ...           89.10       1949.40      0\n",
              "7       0              0        0  ...           29.75        301.90      0\n",
              "8       0              0        1  ...          104.80       3046.05      1\n",
              "9       1              0        0  ...           56.15       3487.95      0\n",
              "\n",
              "[10 rows x 20 columns]"
            ]
          },
          "metadata": {
            "tags": []
          },
          "execution_count": 14
        }
      ]
    },
    {
      "cell_type": "code",
      "metadata": {
        "colab": {
          "base_uri": "https://localhost:8080/"
        },
        "id": "U2W9F_AbZEAv",
        "outputId": "a3be6cdc-a4c2-42d8-c594-d3c533e8285f"
      },
      "source": [
        "# Check the data types\r\n",
        "df1.dtypes"
      ],
      "execution_count": null,
      "outputs": [
        {
          "output_type": "execute_result",
          "data": {
            "text/plain": [
              "gender                int64\n",
              "SeniorCitizen         int64\n",
              "Partner               int64\n",
              "Dependents            int64\n",
              "tenure                int64\n",
              "PhoneService          int64\n",
              "MultipleLines         int64\n",
              "InternetService       int64\n",
              "OnlineSecurity        int64\n",
              "OnlineBackup          int64\n",
              "DeviceProtection      int64\n",
              "TechSupport           int64\n",
              "StreamingTV           int64\n",
              "StreamingMovies       int64\n",
              "Contract              int64\n",
              "PaperlessBilling      int64\n",
              "PaymentMethod         int64\n",
              "MonthlyCharges      float64\n",
              "TotalCharges        float64\n",
              "Churn                 int64\n",
              "dtype: object"
            ]
          },
          "metadata": {
            "tags": []
          },
          "execution_count": 15
        }
      ]
    },
    {
      "cell_type": "markdown",
      "metadata": {
        "id": "r0i4WIpycRT7"
      },
      "source": [
        "**Check for Outliers**"
      ]
    },
    {
      "cell_type": "code",
      "metadata": {
        "colab": {
          "base_uri": "https://localhost:8080/",
          "height": 306
        },
        "id": "8rL6t-fcZD8c",
        "outputId": "c6dffd37-7c36-457a-833f-ae5c412754f5"
      },
      "source": [
        "# Display statistical summary\r\n",
        "df1.describe()"
      ],
      "execution_count": null,
      "outputs": [
        {
          "output_type": "execute_result",
          "data": {
            "text/html": [
              "<div>\n",
              "<style scoped>\n",
              "    .dataframe tbody tr th:only-of-type {\n",
              "        vertical-align: middle;\n",
              "    }\n",
              "\n",
              "    .dataframe tbody tr th {\n",
              "        vertical-align: top;\n",
              "    }\n",
              "\n",
              "    .dataframe thead th {\n",
              "        text-align: right;\n",
              "    }\n",
              "</style>\n",
              "<table border=\"1\" class=\"dataframe\">\n",
              "  <thead>\n",
              "    <tr style=\"text-align: right;\">\n",
              "      <th></th>\n",
              "      <th>gender</th>\n",
              "      <th>SeniorCitizen</th>\n",
              "      <th>Partner</th>\n",
              "      <th>Dependents</th>\n",
              "      <th>tenure</th>\n",
              "      <th>PhoneService</th>\n",
              "      <th>MultipleLines</th>\n",
              "      <th>InternetService</th>\n",
              "      <th>OnlineSecurity</th>\n",
              "      <th>OnlineBackup</th>\n",
              "      <th>DeviceProtection</th>\n",
              "      <th>TechSupport</th>\n",
              "      <th>StreamingTV</th>\n",
              "      <th>StreamingMovies</th>\n",
              "      <th>Contract</th>\n",
              "      <th>PaperlessBilling</th>\n",
              "      <th>PaymentMethod</th>\n",
              "      <th>MonthlyCharges</th>\n",
              "      <th>TotalCharges</th>\n",
              "      <th>Churn</th>\n",
              "    </tr>\n",
              "  </thead>\n",
              "  <tbody>\n",
              "    <tr>\n",
              "      <th>count</th>\n",
              "      <td>7032.000000</td>\n",
              "      <td>7032.000000</td>\n",
              "      <td>7032.000000</td>\n",
              "      <td>7032.000000</td>\n",
              "      <td>7032.000000</td>\n",
              "      <td>7032.000000</td>\n",
              "      <td>7032.000000</td>\n",
              "      <td>7032.000000</td>\n",
              "      <td>7032.000000</td>\n",
              "      <td>7032.000000</td>\n",
              "      <td>7032.000000</td>\n",
              "      <td>7032.000000</td>\n",
              "      <td>7032.000000</td>\n",
              "      <td>7032.000000</td>\n",
              "      <td>7032.000000</td>\n",
              "      <td>7032.000000</td>\n",
              "      <td>7032.000000</td>\n",
              "      <td>7032.000000</td>\n",
              "      <td>7032.000000</td>\n",
              "      <td>7032.000000</td>\n",
              "    </tr>\n",
              "    <tr>\n",
              "      <th>mean</th>\n",
              "      <td>0.504693</td>\n",
              "      <td>0.162400</td>\n",
              "      <td>0.482509</td>\n",
              "      <td>0.298493</td>\n",
              "      <td>32.421786</td>\n",
              "      <td>0.903299</td>\n",
              "      <td>0.940557</td>\n",
              "      <td>0.872582</td>\n",
              "      <td>0.789249</td>\n",
              "      <td>0.905859</td>\n",
              "      <td>0.903868</td>\n",
              "      <td>0.796359</td>\n",
              "      <td>0.984926</td>\n",
              "      <td>0.992890</td>\n",
              "      <td>0.688567</td>\n",
              "      <td>0.592719</td>\n",
              "      <td>1.573237</td>\n",
              "      <td>64.798208</td>\n",
              "      <td>2283.300441</td>\n",
              "      <td>0.265785</td>\n",
              "    </tr>\n",
              "    <tr>\n",
              "      <th>std</th>\n",
              "      <td>0.500014</td>\n",
              "      <td>0.368844</td>\n",
              "      <td>0.499729</td>\n",
              "      <td>0.457629</td>\n",
              "      <td>24.545260</td>\n",
              "      <td>0.295571</td>\n",
              "      <td>0.948627</td>\n",
              "      <td>0.737271</td>\n",
              "      <td>0.859962</td>\n",
              "      <td>0.880394</td>\n",
              "      <td>0.880178</td>\n",
              "      <td>0.861674</td>\n",
              "      <td>0.885285</td>\n",
              "      <td>0.885385</td>\n",
              "      <td>0.832934</td>\n",
              "      <td>0.491363</td>\n",
              "      <td>1.067504</td>\n",
              "      <td>30.085974</td>\n",
              "      <td>2266.771362</td>\n",
              "      <td>0.441782</td>\n",
              "    </tr>\n",
              "    <tr>\n",
              "      <th>min</th>\n",
              "      <td>0.000000</td>\n",
              "      <td>0.000000</td>\n",
              "      <td>0.000000</td>\n",
              "      <td>0.000000</td>\n",
              "      <td>1.000000</td>\n",
              "      <td>0.000000</td>\n",
              "      <td>0.000000</td>\n",
              "      <td>0.000000</td>\n",
              "      <td>0.000000</td>\n",
              "      <td>0.000000</td>\n",
              "      <td>0.000000</td>\n",
              "      <td>0.000000</td>\n",
              "      <td>0.000000</td>\n",
              "      <td>0.000000</td>\n",
              "      <td>0.000000</td>\n",
              "      <td>0.000000</td>\n",
              "      <td>0.000000</td>\n",
              "      <td>18.250000</td>\n",
              "      <td>18.800000</td>\n",
              "      <td>0.000000</td>\n",
              "    </tr>\n",
              "    <tr>\n",
              "      <th>25%</th>\n",
              "      <td>0.000000</td>\n",
              "      <td>0.000000</td>\n",
              "      <td>0.000000</td>\n",
              "      <td>0.000000</td>\n",
              "      <td>9.000000</td>\n",
              "      <td>1.000000</td>\n",
              "      <td>0.000000</td>\n",
              "      <td>0.000000</td>\n",
              "      <td>0.000000</td>\n",
              "      <td>0.000000</td>\n",
              "      <td>0.000000</td>\n",
              "      <td>0.000000</td>\n",
              "      <td>0.000000</td>\n",
              "      <td>0.000000</td>\n",
              "      <td>0.000000</td>\n",
              "      <td>0.000000</td>\n",
              "      <td>1.000000</td>\n",
              "      <td>35.587500</td>\n",
              "      <td>401.450000</td>\n",
              "      <td>0.000000</td>\n",
              "    </tr>\n",
              "    <tr>\n",
              "      <th>50%</th>\n",
              "      <td>1.000000</td>\n",
              "      <td>0.000000</td>\n",
              "      <td>0.000000</td>\n",
              "      <td>0.000000</td>\n",
              "      <td>29.000000</td>\n",
              "      <td>1.000000</td>\n",
              "      <td>1.000000</td>\n",
              "      <td>1.000000</td>\n",
              "      <td>1.000000</td>\n",
              "      <td>1.000000</td>\n",
              "      <td>1.000000</td>\n",
              "      <td>1.000000</td>\n",
              "      <td>1.000000</td>\n",
              "      <td>1.000000</td>\n",
              "      <td>0.000000</td>\n",
              "      <td>1.000000</td>\n",
              "      <td>2.000000</td>\n",
              "      <td>70.350000</td>\n",
              "      <td>1397.475000</td>\n",
              "      <td>0.000000</td>\n",
              "    </tr>\n",
              "    <tr>\n",
              "      <th>75%</th>\n",
              "      <td>1.000000</td>\n",
              "      <td>0.000000</td>\n",
              "      <td>1.000000</td>\n",
              "      <td>1.000000</td>\n",
              "      <td>55.000000</td>\n",
              "      <td>1.000000</td>\n",
              "      <td>2.000000</td>\n",
              "      <td>1.000000</td>\n",
              "      <td>2.000000</td>\n",
              "      <td>2.000000</td>\n",
              "      <td>2.000000</td>\n",
              "      <td>2.000000</td>\n",
              "      <td>2.000000</td>\n",
              "      <td>2.000000</td>\n",
              "      <td>1.000000</td>\n",
              "      <td>1.000000</td>\n",
              "      <td>2.000000</td>\n",
              "      <td>89.862500</td>\n",
              "      <td>3794.737500</td>\n",
              "      <td>1.000000</td>\n",
              "    </tr>\n",
              "    <tr>\n",
              "      <th>max</th>\n",
              "      <td>1.000000</td>\n",
              "      <td>1.000000</td>\n",
              "      <td>1.000000</td>\n",
              "      <td>1.000000</td>\n",
              "      <td>72.000000</td>\n",
              "      <td>1.000000</td>\n",
              "      <td>2.000000</td>\n",
              "      <td>2.000000</td>\n",
              "      <td>2.000000</td>\n",
              "      <td>2.000000</td>\n",
              "      <td>2.000000</td>\n",
              "      <td>2.000000</td>\n",
              "      <td>2.000000</td>\n",
              "      <td>2.000000</td>\n",
              "      <td>2.000000</td>\n",
              "      <td>1.000000</td>\n",
              "      <td>3.000000</td>\n",
              "      <td>118.750000</td>\n",
              "      <td>8684.800000</td>\n",
              "      <td>1.000000</td>\n",
              "    </tr>\n",
              "  </tbody>\n",
              "</table>\n",
              "</div>"
            ],
            "text/plain": [
              "            gender  SeniorCitizen  ...  TotalCharges        Churn\n",
              "count  7032.000000    7032.000000  ...   7032.000000  7032.000000\n",
              "mean      0.504693       0.162400  ...   2283.300441     0.265785\n",
              "std       0.500014       0.368844  ...   2266.771362     0.441782\n",
              "min       0.000000       0.000000  ...     18.800000     0.000000\n",
              "25%       0.000000       0.000000  ...    401.450000     0.000000\n",
              "50%       1.000000       0.000000  ...   1397.475000     0.000000\n",
              "75%       1.000000       0.000000  ...   3794.737500     1.000000\n",
              "max       1.000000       1.000000  ...   8684.800000     1.000000\n",
              "\n",
              "[8 rows x 20 columns]"
            ]
          },
          "metadata": {
            "tags": []
          },
          "execution_count": 16
        }
      ]
    },
    {
      "cell_type": "code",
      "metadata": {
        "colab": {
          "base_uri": "https://localhost:8080/",
          "height": 562
        },
        "id": "UUhHGq6wPQ2E",
        "outputId": "f6387bef-553d-4189-d446-2ae325cab1bc"
      },
      "source": [
        "# Plot boxplot & histogram for relevant columns\r\n",
        "plt.boxplot(df1['tenure'])\r\n",
        "plt.show()\r\n",
        "df1.hist(column='tenure')"
      ],
      "execution_count": null,
      "outputs": [
        {
          "output_type": "display_data",
          "data": {
            "image/png": "[encoded data removed]",
            "text/plain": [
              "<Figure size 432x288 with 1 Axes>"
            ]
          },
          "metadata": {
            "tags": [],
            "needs_background": "light"
          }
        },
        {
          "output_type": "execute_result",
          "data": {
            "text/plain": [
              "array([[<matplotlib.axes._subplots.AxesSubplot object at 0x7fd57b55a510>]],\n",
              "      dtype=object)"
            ]
          },
          "metadata": {
            "tags": []
          },
          "execution_count": 17
        },
        {
          "output_type": "display_data",
          "data": {
            "image/png": "[encoded data removed]",
            "text/plain": [
              "<Figure size 432x288 with 1 Axes>"
            ]
          },
          "metadata": {
            "tags": [],
            "needs_background": "light"
          }
        }
      ]
    },
    {
      "cell_type": "code",
      "metadata": {
        "colab": {
          "base_uri": "https://localhost:8080/",
          "height": 562
        },
        "id": "vDTuseHsmiU1",
        "outputId": "30df9a70-4885-471e-dbb9-1a7de866f065"
      },
      "source": [
        "plt.boxplot(df1['MonthlyCharges'])\r\n",
        "plt.show()\r\n",
        "df1.hist(column='MonthlyCharges')"
      ],
      "execution_count": null,
      "outputs": [
        {
          "output_type": "display_data",
          "data": {
            "image/png": "[encoded data removed]",
            "text/plain": [
              "<Figure size 432x288 with 1 Axes>"
            ]
          },
          "metadata": {
            "tags": [],
            "needs_background": "light"
          }
        },
        {
          "output_type": "execute_result",
          "data": {
            "text/plain": [
              "array([[<matplotlib.axes._subplots.AxesSubplot object at 0x7fd57b3fb090>]],\n",
              "      dtype=object)"
            ]
          },
          "metadata": {
            "tags": []
          },
          "execution_count": 18
        },
        {
          "output_type": "display_data",
          "data": {
            "image/png": "[encoded data removed]",
            "text/plain": [
              "<Figure size 432x288 with 1 Axes>"
            ]
          },
          "metadata": {
            "tags": [],
            "needs_background": "light"
          }
        }
      ]
    },
    {
      "cell_type": "code",
      "metadata": {
        "colab": {
          "base_uri": "https://localhost:8080/",
          "height": 562
        },
        "id": "PcZlidBYmUhs",
        "outputId": "7ce66d54-c232-464a-e4d9-09352f86c647"
      },
      "source": [
        "plt.boxplot(df1['TotalCharges'])\r\n",
        "plt.show()\r\n",
        "df1.hist(column='TotalCharges')"
      ],
      "execution_count": null,
      "outputs": [
        {
          "output_type": "display_data",
          "data": {
            "image/png": "[encoded data removed]",
            "text/plain": [
              "<Figure size 432x288 with 1 Axes>"
            ]
          },
          "metadata": {
            "tags": [],
            "needs_background": "light"
          }
        },
        {
          "output_type": "execute_result",
          "data": {
            "text/plain": [
              "array([[<matplotlib.axes._subplots.AxesSubplot object at 0x7fd57b49be50>]],\n",
              "      dtype=object)"
            ]
          },
          "metadata": {
            "tags": []
          },
          "execution_count": 19
        },
        {
          "output_type": "display_data",
          "data": {
            "image/png": "[encoded data removed]",
            "text/plain": [
              "<Figure size 432x288 with 1 Axes>"
            ]
          },
          "metadata": {
            "tags": [],
            "needs_background": "light"
          }
        }
      ]
    },
    {
      "cell_type": "code",
      "metadata": {
        "colab": {
          "base_uri": "https://localhost:8080/",
          "height": 424
        },
        "id": "IX_lUYD2CY7u",
        "outputId": "acf9c9ec-607e-4765-e4bd-52117c97fd4f"
      },
      "source": [
        "# Check for values above 0.99 quantile in TotalCharges column\r\n",
        "q_high = df1['TotalCharges'].quantile(0.99)\r\n",
        "df1[df1['TotalCharges'] > q_high]"
      ],
      "execution_count": null,
      "outputs": [
        {
          "output_type": "execute_result",
          "data": {
            "text/html": [
              "<div>\n",
              "<style scoped>\n",
              "    .dataframe tbody tr th:only-of-type {\n",
              "        vertical-align: middle;\n",
              "    }\n",
              "\n",
              "    .dataframe tbody tr th {\n",
              "        vertical-align: top;\n",
              "    }\n",
              "\n",
              "    .dataframe thead th {\n",
              "        text-align: right;\n",
              "    }\n",
              "</style>\n",
              "<table border=\"1\" class=\"dataframe\">\n",
              "  <thead>\n",
              "    <tr style=\"text-align: right;\">\n",
              "      <th></th>\n",
              "      <th>gender</th>\n",
              "      <th>SeniorCitizen</th>\n",
              "      <th>Partner</th>\n",
              "      <th>Dependents</th>\n",
              "      <th>tenure</th>\n",
              "      <th>PhoneService</th>\n",
              "      <th>MultipleLines</th>\n",
              "      <th>InternetService</th>\n",
              "      <th>OnlineSecurity</th>\n",
              "      <th>OnlineBackup</th>\n",
              "      <th>DeviceProtection</th>\n",
              "      <th>TechSupport</th>\n",
              "      <th>StreamingTV</th>\n",
              "      <th>StreamingMovies</th>\n",
              "      <th>Contract</th>\n",
              "      <th>PaperlessBilling</th>\n",
              "      <th>PaymentMethod</th>\n",
              "      <th>MonthlyCharges</th>\n",
              "      <th>TotalCharges</th>\n",
              "      <th>Churn</th>\n",
              "    </tr>\n",
              "  </thead>\n",
              "  <tbody>\n",
              "    <tr>\n",
              "      <th>193</th>\n",
              "      <td>0</td>\n",
              "      <td>0</td>\n",
              "      <td>1</td>\n",
              "      <td>1</td>\n",
              "      <td>72</td>\n",
              "      <td>1</td>\n",
              "      <td>2</td>\n",
              "      <td>1</td>\n",
              "      <td>2</td>\n",
              "      <td>2</td>\n",
              "      <td>2</td>\n",
              "      <td>0</td>\n",
              "      <td>2</td>\n",
              "      <td>2</td>\n",
              "      <td>2</td>\n",
              "      <td>0</td>\n",
              "      <td>1</td>\n",
              "      <td>109.70</td>\n",
              "      <td>8129.30</td>\n",
              "      <td>0</td>\n",
              "    </tr>\n",
              "    <tr>\n",
              "      <th>198</th>\n",
              "      <td>1</td>\n",
              "      <td>0</td>\n",
              "      <td>1</td>\n",
              "      <td>1</td>\n",
              "      <td>72</td>\n",
              "      <td>1</td>\n",
              "      <td>2</td>\n",
              "      <td>1</td>\n",
              "      <td>0</td>\n",
              "      <td>2</td>\n",
              "      <td>2</td>\n",
              "      <td>2</td>\n",
              "      <td>2</td>\n",
              "      <td>2</td>\n",
              "      <td>2</td>\n",
              "      <td>1</td>\n",
              "      <td>0</td>\n",
              "      <td>112.25</td>\n",
              "      <td>8041.65</td>\n",
              "      <td>0</td>\n",
              "    </tr>\n",
              "    <tr>\n",
              "      <th>369</th>\n",
              "      <td>1</td>\n",
              "      <td>0</td>\n",
              "      <td>1</td>\n",
              "      <td>1</td>\n",
              "      <td>72</td>\n",
              "      <td>1</td>\n",
              "      <td>2</td>\n",
              "      <td>1</td>\n",
              "      <td>2</td>\n",
              "      <td>2</td>\n",
              "      <td>2</td>\n",
              "      <td>2</td>\n",
              "      <td>2</td>\n",
              "      <td>2</td>\n",
              "      <td>2</td>\n",
              "      <td>1</td>\n",
              "      <td>1</td>\n",
              "      <td>112.60</td>\n",
              "      <td>8126.65</td>\n",
              "      <td>0</td>\n",
              "    </tr>\n",
              "    <tr>\n",
              "      <th>437</th>\n",
              "      <td>1</td>\n",
              "      <td>0</td>\n",
              "      <td>1</td>\n",
              "      <td>1</td>\n",
              "      <td>72</td>\n",
              "      <td>1</td>\n",
              "      <td>2</td>\n",
              "      <td>1</td>\n",
              "      <td>2</td>\n",
              "      <td>2</td>\n",
              "      <td>2</td>\n",
              "      <td>2</td>\n",
              "      <td>2</td>\n",
              "      <td>2</td>\n",
              "      <td>2</td>\n",
              "      <td>1</td>\n",
              "      <td>1</td>\n",
              "      <td>114.05</td>\n",
              "      <td>8468.20</td>\n",
              "      <td>0</td>\n",
              "    </tr>\n",
              "    <tr>\n",
              "      <th>464</th>\n",
              "      <td>1</td>\n",
              "      <td>1</td>\n",
              "      <td>1</td>\n",
              "      <td>0</td>\n",
              "      <td>72</td>\n",
              "      <td>1</td>\n",
              "      <td>2</td>\n",
              "      <td>1</td>\n",
              "      <td>2</td>\n",
              "      <td>2</td>\n",
              "      <td>2</td>\n",
              "      <td>2</td>\n",
              "      <td>2</td>\n",
              "      <td>2</td>\n",
              "      <td>2</td>\n",
              "      <td>1</td>\n",
              "      <td>0</td>\n",
              "      <td>116.05</td>\n",
              "      <td>8404.90</td>\n",
              "      <td>0</td>\n",
              "    </tr>\n",
              "    <tr>\n",
              "      <th>...</th>\n",
              "      <td>...</td>\n",
              "      <td>...</td>\n",
              "      <td>...</td>\n",
              "      <td>...</td>\n",
              "      <td>...</td>\n",
              "      <td>...</td>\n",
              "      <td>...</td>\n",
              "      <td>...</td>\n",
              "      <td>...</td>\n",
              "      <td>...</td>\n",
              "      <td>...</td>\n",
              "      <td>...</td>\n",
              "      <td>...</td>\n",
              "      <td>...</td>\n",
              "      <td>...</td>\n",
              "      <td>...</td>\n",
              "      <td>...</td>\n",
              "      <td>...</td>\n",
              "      <td>...</td>\n",
              "      <td>...</td>\n",
              "    </tr>\n",
              "    <tr>\n",
              "      <th>6297</th>\n",
              "      <td>1</td>\n",
              "      <td>0</td>\n",
              "      <td>0</td>\n",
              "      <td>0</td>\n",
              "      <td>71</td>\n",
              "      <td>1</td>\n",
              "      <td>2</td>\n",
              "      <td>1</td>\n",
              "      <td>2</td>\n",
              "      <td>2</td>\n",
              "      <td>2</td>\n",
              "      <td>2</td>\n",
              "      <td>2</td>\n",
              "      <td>2</td>\n",
              "      <td>1</td>\n",
              "      <td>1</td>\n",
              "      <td>0</td>\n",
              "      <td>116.30</td>\n",
              "      <td>8309.55</td>\n",
              "      <td>0</td>\n",
              "    </tr>\n",
              "    <tr>\n",
              "      <th>6394</th>\n",
              "      <td>1</td>\n",
              "      <td>0</td>\n",
              "      <td>1</td>\n",
              "      <td>1</td>\n",
              "      <td>72</td>\n",
              "      <td>1</td>\n",
              "      <td>2</td>\n",
              "      <td>1</td>\n",
              "      <td>2</td>\n",
              "      <td>2</td>\n",
              "      <td>2</td>\n",
              "      <td>2</td>\n",
              "      <td>2</td>\n",
              "      <td>2</td>\n",
              "      <td>2</td>\n",
              "      <td>1</td>\n",
              "      <td>0</td>\n",
              "      <td>116.60</td>\n",
              "      <td>8337.45</td>\n",
              "      <td>0</td>\n",
              "    </tr>\n",
              "    <tr>\n",
              "      <th>6557</th>\n",
              "      <td>1</td>\n",
              "      <td>0</td>\n",
              "      <td>1</td>\n",
              "      <td>1</td>\n",
              "      <td>70</td>\n",
              "      <td>1</td>\n",
              "      <td>2</td>\n",
              "      <td>1</td>\n",
              "      <td>2</td>\n",
              "      <td>2</td>\n",
              "      <td>2</td>\n",
              "      <td>2</td>\n",
              "      <td>2</td>\n",
              "      <td>2</td>\n",
              "      <td>2</td>\n",
              "      <td>1</td>\n",
              "      <td>1</td>\n",
              "      <td>116.55</td>\n",
              "      <td>8152.30</td>\n",
              "      <td>0</td>\n",
              "    </tr>\n",
              "    <tr>\n",
              "      <th>6718</th>\n",
              "      <td>0</td>\n",
              "      <td>0</td>\n",
              "      <td>1</td>\n",
              "      <td>0</td>\n",
              "      <td>72</td>\n",
              "      <td>1</td>\n",
              "      <td>2</td>\n",
              "      <td>1</td>\n",
              "      <td>2</td>\n",
              "      <td>2</td>\n",
              "      <td>2</td>\n",
              "      <td>2</td>\n",
              "      <td>2</td>\n",
              "      <td>2</td>\n",
              "      <td>2</td>\n",
              "      <td>0</td>\n",
              "      <td>2</td>\n",
              "      <td>115.15</td>\n",
              "      <td>8349.70</td>\n",
              "      <td>0</td>\n",
              "    </tr>\n",
              "    <tr>\n",
              "      <th>6757</th>\n",
              "      <td>0</td>\n",
              "      <td>0</td>\n",
              "      <td>1</td>\n",
              "      <td>1</td>\n",
              "      <td>72</td>\n",
              "      <td>1</td>\n",
              "      <td>2</td>\n",
              "      <td>1</td>\n",
              "      <td>2</td>\n",
              "      <td>2</td>\n",
              "      <td>2</td>\n",
              "      <td>2</td>\n",
              "      <td>2</td>\n",
              "      <td>2</td>\n",
              "      <td>2</td>\n",
              "      <td>0</td>\n",
              "      <td>1</td>\n",
              "      <td>117.50</td>\n",
              "      <td>8670.10</td>\n",
              "      <td>0</td>\n",
              "    </tr>\n",
              "  </tbody>\n",
              "</table>\n",
              "<p>71 rows × 20 columns</p>\n",
              "</div>"
            ],
            "text/plain": [
              "      gender  SeniorCitizen  Partner  ...  MonthlyCharges  TotalCharges  Churn\n",
              "193        0              0        1  ...          109.70       8129.30      0\n",
              "198        1              0        1  ...          112.25       8041.65      0\n",
              "369        1              0        1  ...          112.60       8126.65      0\n",
              "437        1              0        1  ...          114.05       8468.20      0\n",
              "464        1              1        1  ...          116.05       8404.90      0\n",
              "...      ...            ...      ...  ...             ...           ...    ...\n",
              "6297       1              0        0  ...          116.30       8309.55      0\n",
              "6394       1              0        1  ...          116.60       8337.45      0\n",
              "6557       1              0        1  ...          116.55       8152.30      0\n",
              "6718       0              0        1  ...          115.15       8349.70      0\n",
              "6757       0              0        1  ...          117.50       8670.10      0\n",
              "\n",
              "[71 rows x 20 columns]"
            ]
          },
          "metadata": {
            "tags": []
          },
          "execution_count": 20
        }
      ]
    },
    {
      "cell_type": "markdown",
      "metadata": {
        "id": "Sl95M80qrjSO"
      },
      "source": [
        "**Outlier conclusion:** There doesn't seem to be any outlier that may impact our models' performance.\r\n",
        "\r\n",
        "---\r\n",
        "\r\n",
        "Next, we check for multi-collinearity using VIF (Variable Inflation Factors)."
      ]
    },
    {
      "cell_type": "code",
      "metadata": {
        "colab": {
          "base_uri": "https://localhost:8080/",
          "height": 614
        },
        "id": "dlhS8dIYCY5X",
        "outputId": "87157ad6-12d2-494b-fd81-15ae765bba1b"
      },
      "source": [
        "# Calculate VIF for all independent variables\r\n",
        "def calc_vif(X):\r\n",
        "  vif = pd.DataFrame()\r\n",
        "  vif['Variables'] = X.columns\r\n",
        "  vif['VIF'] = [variance_inflation_factor(X.values, i) for i in range(X.shape[1])]\r\n",
        "  \r\n",
        "  return(vif)\r\n",
        "\r\n",
        "X = df1.iloc[:,:-1]\r\n",
        "calc_vif(X)"
      ],
      "execution_count": null,
      "outputs": [
        {
          "output_type": "execute_result",
          "data": {
            "text/html": [
              "<div>\n",
              "<style scoped>\n",
              "    .dataframe tbody tr th:only-of-type {\n",
              "        vertical-align: middle;\n",
              "    }\n",
              "\n",
              "    .dataframe tbody tr th {\n",
              "        vertical-align: top;\n",
              "    }\n",
              "\n",
              "    .dataframe thead th {\n",
              "        text-align: right;\n",
              "    }\n",
              "</style>\n",
              "<table border=\"1\" class=\"dataframe\">\n",
              "  <thead>\n",
              "    <tr style=\"text-align: right;\">\n",
              "      <th></th>\n",
              "      <th>Variables</th>\n",
              "      <th>VIF</th>\n",
              "    </tr>\n",
              "  </thead>\n",
              "  <tbody>\n",
              "    <tr>\n",
              "      <th>0</th>\n",
              "      <td>gender</td>\n",
              "      <td>1.954535</td>\n",
              "    </tr>\n",
              "    <tr>\n",
              "      <th>1</th>\n",
              "      <td>SeniorCitizen</td>\n",
              "      <td>1.369954</td>\n",
              "    </tr>\n",
              "    <tr>\n",
              "      <th>2</th>\n",
              "      <td>Partner</td>\n",
              "      <td>2.819229</td>\n",
              "    </tr>\n",
              "    <tr>\n",
              "      <th>3</th>\n",
              "      <td>Dependents</td>\n",
              "      <td>1.957360</td>\n",
              "    </tr>\n",
              "    <tr>\n",
              "      <th>4</th>\n",
              "      <td>tenure</td>\n",
              "      <td>15.084412</td>\n",
              "    </tr>\n",
              "    <tr>\n",
              "      <th>5</th>\n",
              "      <td>PhoneService</td>\n",
              "      <td>15.150758</td>\n",
              "    </tr>\n",
              "    <tr>\n",
              "      <th>6</th>\n",
              "      <td>MultipleLines</td>\n",
              "      <td>2.756988</td>\n",
              "    </tr>\n",
              "    <tr>\n",
              "      <th>7</th>\n",
              "      <td>InternetService</td>\n",
              "      <td>4.350001</td>\n",
              "    </tr>\n",
              "    <tr>\n",
              "      <th>8</th>\n",
              "      <td>OnlineSecurity</td>\n",
              "      <td>2.247863</td>\n",
              "    </tr>\n",
              "    <tr>\n",
              "      <th>9</th>\n",
              "      <td>OnlineBackup</td>\n",
              "      <td>2.455913</td>\n",
              "    </tr>\n",
              "    <tr>\n",
              "      <th>10</th>\n",
              "      <td>DeviceProtection</td>\n",
              "      <td>2.629892</td>\n",
              "    </tr>\n",
              "    <tr>\n",
              "      <th>11</th>\n",
              "      <td>TechSupport</td>\n",
              "      <td>2.381046</td>\n",
              "    </tr>\n",
              "    <tr>\n",
              "      <th>12</th>\n",
              "      <td>StreamingTV</td>\n",
              "      <td>3.237958</td>\n",
              "    </tr>\n",
              "    <tr>\n",
              "      <th>13</th>\n",
              "      <td>StreamingMovies</td>\n",
              "      <td>3.265595</td>\n",
              "    </tr>\n",
              "    <tr>\n",
              "      <th>14</th>\n",
              "      <td>Contract</td>\n",
              "      <td>4.194484</td>\n",
              "    </tr>\n",
              "    <tr>\n",
              "      <th>15</th>\n",
              "      <td>PaperlessBilling</td>\n",
              "      <td>2.875010</td>\n",
              "    </tr>\n",
              "    <tr>\n",
              "      <th>16</th>\n",
              "      <td>PaymentMethod</td>\n",
              "      <td>3.095143</td>\n",
              "    </tr>\n",
              "    <tr>\n",
              "      <th>17</th>\n",
              "      <td>MonthlyCharges</td>\n",
              "      <td>20.503844</td>\n",
              "    </tr>\n",
              "    <tr>\n",
              "      <th>18</th>\n",
              "      <td>TotalCharges</td>\n",
              "      <td>13.869098</td>\n",
              "    </tr>\n",
              "  </tbody>\n",
              "</table>\n",
              "</div>"
            ],
            "text/plain": [
              "           Variables        VIF\n",
              "0             gender   1.954535\n",
              "1      SeniorCitizen   1.369954\n",
              "2            Partner   2.819229\n",
              "3         Dependents   1.957360\n",
              "4             tenure  15.084412\n",
              "5       PhoneService  15.150758\n",
              "6      MultipleLines   2.756988\n",
              "7    InternetService   4.350001\n",
              "8     OnlineSecurity   2.247863\n",
              "9       OnlineBackup   2.455913\n",
              "10  DeviceProtection   2.629892\n",
              "11       TechSupport   2.381046\n",
              "12       StreamingTV   3.237958\n",
              "13   StreamingMovies   3.265595\n",
              "14          Contract   4.194484\n",
              "15  PaperlessBilling   2.875010\n",
              "16     PaymentMethod   3.095143\n",
              "17    MonthlyCharges  20.503844\n",
              "18      TotalCharges  13.869098"
            ]
          },
          "metadata": {
            "tags": []
          },
          "execution_count": 21
        }
      ]
    },
    {
      "cell_type": "markdown",
      "metadata": {
        "id": "D5ttCMLGu0lQ"
      },
      "source": [
        "**Multi-collinearity fix:**\r\n",
        "\r\n",
        "Columns *tenure*, *PhoneService*, *MonthlyCharges*, and *TotalCharges* have high VIF values. Nevertheless, we should only drop *PhoneService* column as others are of high importance for model evaluation. The changes are made in the copy dataframe and the original one is kept unchanged for data visualization."
      ]
    },
    {
      "cell_type": "code",
      "metadata": {
        "id": "h-i64GL_CY0b",
        "colab": {
          "base_uri": "https://localhost:8080/",
          "height": 584
        },
        "outputId": "58d61ec5-e63f-4546-ccf7-b610366b9900"
      },
      "source": [
        "# Drop the column causing multi-collinearity and check VIF values again\r\n",
        "df1 = df1.drop(columns = ['PhoneService'], axis=1)\r\n",
        "calc_vif(df1.iloc[:,:-1])"
      ],
      "execution_count": null,
      "outputs": [
        {
          "output_type": "execute_result",
          "data": {
            "text/html": [
              "<div>\n",
              "<style scoped>\n",
              "    .dataframe tbody tr th:only-of-type {\n",
              "        vertical-align: middle;\n",
              "    }\n",
              "\n",
              "    .dataframe tbody tr th {\n",
              "        vertical-align: top;\n",
              "    }\n",
              "\n",
              "    .dataframe thead th {\n",
              "        text-align: right;\n",
              "    }\n",
              "</style>\n",
              "<table border=\"1\" class=\"dataframe\">\n",
              "  <thead>\n",
              "    <tr style=\"text-align: right;\">\n",
              "      <th></th>\n",
              "      <th>Variables</th>\n",
              "      <th>VIF</th>\n",
              "    </tr>\n",
              "  </thead>\n",
              "  <tbody>\n",
              "    <tr>\n",
              "      <th>0</th>\n",
              "      <td>gender</td>\n",
              "      <td>1.947340</td>\n",
              "    </tr>\n",
              "    <tr>\n",
              "      <th>1</th>\n",
              "      <td>SeniorCitizen</td>\n",
              "      <td>1.366233</td>\n",
              "    </tr>\n",
              "    <tr>\n",
              "      <th>2</th>\n",
              "      <td>Partner</td>\n",
              "      <td>2.818484</td>\n",
              "    </tr>\n",
              "    <tr>\n",
              "      <th>3</th>\n",
              "      <td>Dependents</td>\n",
              "      <td>1.953141</td>\n",
              "    </tr>\n",
              "    <tr>\n",
              "      <th>4</th>\n",
              "      <td>tenure</td>\n",
              "      <td>14.619043</td>\n",
              "    </tr>\n",
              "    <tr>\n",
              "      <th>5</th>\n",
              "      <td>MultipleLines</td>\n",
              "      <td>2.683622</td>\n",
              "    </tr>\n",
              "    <tr>\n",
              "      <th>6</th>\n",
              "      <td>InternetService</td>\n",
              "      <td>2.676011</td>\n",
              "    </tr>\n",
              "    <tr>\n",
              "      <th>7</th>\n",
              "      <td>OnlineSecurity</td>\n",
              "      <td>2.225919</td>\n",
              "    </tr>\n",
              "    <tr>\n",
              "      <th>8</th>\n",
              "      <td>OnlineBackup</td>\n",
              "      <td>2.455360</td>\n",
              "    </tr>\n",
              "    <tr>\n",
              "      <th>9</th>\n",
              "      <td>DeviceProtection</td>\n",
              "      <td>2.627566</td>\n",
              "    </tr>\n",
              "    <tr>\n",
              "      <th>10</th>\n",
              "      <td>TechSupport</td>\n",
              "      <td>2.365582</td>\n",
              "    </tr>\n",
              "    <tr>\n",
              "      <th>11</th>\n",
              "      <td>StreamingTV</td>\n",
              "      <td>3.173736</td>\n",
              "    </tr>\n",
              "    <tr>\n",
              "      <th>12</th>\n",
              "      <td>StreamingMovies</td>\n",
              "      <td>3.199576</td>\n",
              "    </tr>\n",
              "    <tr>\n",
              "      <th>13</th>\n",
              "      <td>Contract</td>\n",
              "      <td>4.171428</td>\n",
              "    </tr>\n",
              "    <tr>\n",
              "      <th>14</th>\n",
              "      <td>PaperlessBilling</td>\n",
              "      <td>2.874581</td>\n",
              "    </tr>\n",
              "    <tr>\n",
              "      <th>15</th>\n",
              "      <td>PaymentMethod</td>\n",
              "      <td>3.013952</td>\n",
              "    </tr>\n",
              "    <tr>\n",
              "      <th>16</th>\n",
              "      <td>MonthlyCharges</td>\n",
              "      <td>11.100626</td>\n",
              "    </tr>\n",
              "    <tr>\n",
              "      <th>17</th>\n",
              "      <td>TotalCharges</td>\n",
              "      <td>12.971530</td>\n",
              "    </tr>\n",
              "  </tbody>\n",
              "</table>\n",
              "</div>"
            ],
            "text/plain": [
              "           Variables        VIF\n",
              "0             gender   1.947340\n",
              "1      SeniorCitizen   1.366233\n",
              "2            Partner   2.818484\n",
              "3         Dependents   1.953141\n",
              "4             tenure  14.619043\n",
              "5      MultipleLines   2.683622\n",
              "6    InternetService   2.676011\n",
              "7     OnlineSecurity   2.225919\n",
              "8       OnlineBackup   2.455360\n",
              "9   DeviceProtection   2.627566\n",
              "10       TechSupport   2.365582\n",
              "11       StreamingTV   3.173736\n",
              "12   StreamingMovies   3.199576\n",
              "13          Contract   4.171428\n",
              "14  PaperlessBilling   2.874581\n",
              "15     PaymentMethod   3.013952\n",
              "16    MonthlyCharges  11.100626\n",
              "17      TotalCharges  12.971530"
            ]
          },
          "metadata": {
            "tags": []
          },
          "execution_count": 22
        }
      ]
    },
    {
      "cell_type": "markdown",
      "metadata": {
        "id": "2t3OPqjqPQ2F"
      },
      "source": [
        "### Data Visualization"
      ]
    },
    {
      "cell_type": "code",
      "metadata": {
        "id": "jhDP_bNMPQ2F",
        "colab": {
          "base_uri": "https://localhost:8080/",
          "height": 264
        },
        "outputId": "b3379dfc-d4f8-4b5d-bfaa-71a360cacb6e"
      },
      "source": [
        "# Check the customer churn percentage\r\n",
        "labels =df['Churn'].value_counts(sort = True).index\r\n",
        "dt = df['Churn'].value_counts(sort = True)\r\n",
        "plt.pie(dt, labels=labels, autopct='%1.1f%%', shadow=True)\r\n",
        "plt.title('Churn percentage')\r\n",
        "plt.show()"
      ],
      "execution_count": null,
      "outputs": [
        {
          "output_type": "display_data",
          "data": {
            "image/png": "[encoded data removed]",
            "text/plain": [
              "<Figure size 432x288 with 1 Axes>"
            ]
          },
          "metadata": {
            "tags": []
          }
        }
      ]
    },
    {
      "cell_type": "code",
      "metadata": {
        "colab": {
          "base_uri": "https://localhost:8080/",
          "height": 987
        },
        "id": "XV5D0_Ql95V5",
        "outputId": "62befd82-3425-48be-d90b-0dce3c67d5fd"
      },
      "source": [
        "# Display plots for different columns\r\n",
        "variables = ['gender', 'SeniorCitizen', 'Partner', 'Dependents', 'PhoneService',\r\n",
        "             'MultipleLines', 'InternetService', 'OnlineSecurity', 'OnlineBackup',\r\n",
        "             'DeviceProtection', 'TechSupport', 'StreamingTV', 'StreamingMovies',\r\n",
        "             'Contract', 'PaperlessBilling', 'PaymentMethod']\r\n",
        "fig, axes = plt.subplots(nrows = 4, ncols = 4, figsize = (16,16))\r\n",
        "\r\n",
        "for i, val in enumerate(variables):\r\n",
        "  if i < 4:\r\n",
        "    ax = df[val].value_counts().plot(\r\n",
        "    kind = 'bar', ax=axes[i,0], rot=0)\r\n",
        "      \r\n",
        "  elif i >=4 and i < 8:\r\n",
        "    ax = df[val].value_counts().plot(\r\n",
        "    kind = 'bar', ax=axes[i-4,1], rot=0)\r\n",
        "      \r\n",
        "  elif i >=8 and i < 12:\r\n",
        "    ax = df[val].value_counts().plot(\r\n",
        "    kind = 'bar', ax=axes[i-8,2], rot=0)\r\n",
        "\r\n",
        "  elif i < 16:\r\n",
        "    r=25 if i==15 else 0\r\n",
        "    ax = df[val].value_counts().plot(\r\n",
        "    kind = 'bar', ax=axes[i-12,3], rot=r)\r\n",
        "  \r\n",
        "  ax.set_title(val)"
      ],
      "execution_count": null,
      "outputs": [
        {
          "output_type": "display_data",
          "data": {
            "image/png": "[encoded data removed]",
            "text/plain": [
              "<Figure size 1152x1152 with 16 Axes>"
            ]
          },
          "metadata": {
            "tags": [],
            "needs_background": "light"
          }
        }
      ]
    },
    {
      "cell_type": "code",
      "metadata": {
        "colab": {
          "base_uri": "https://localhost:8080/",
          "height": 513
        },
        "id": "LEI_GZhdTelQ",
        "outputId": "90f42987-b695-49d5-a8b4-a35fcb94186b"
      },
      "source": [
        "# Plot histogram for tenure, monthly charges, and total charges\r\n",
        "fig, (ax1,ax2,ax3) = plt.subplots(nrows=1, ncols=3, figsize = (20,8))\r\n",
        "\r\n",
        "ax = sns.histplot(df['tenure'], ax=ax1)\r\n",
        "ax.set_ylabel('Number of Customers')\r\n",
        "ax.set_xlabel('Tenure (months)')\r\n",
        "\r\n",
        "ax = sns.histplot(df['MonthlyCharges'], ax=ax2)\r\n",
        "ax.set_ylabel('Number of Customers')\r\n",
        "ax.set_xlabel('Monthly Charges')\r\n",
        "\r\n",
        "ax = sns.histplot(df1['TotalCharges'], ax=ax3)\r\n",
        "ax.set_ylabel('Number of Customers')\r\n",
        "ax.set_xlabel('Total Charges')"
      ],
      "execution_count": null,
      "outputs": [
        {
          "output_type": "execute_result",
          "data": {
            "text/plain": [
              "Text(0.5, 0, 'Total Charges')"
            ]
          },
          "metadata": {
            "tags": []
          },
          "execution_count": 25
        },
        {
          "output_type": "display_data",
          "data": {
            "image/png": "[encoded data removed]",
            "text/plain": [
              "<Figure size 1440x576 with 3 Axes>"
            ]
          },
          "metadata": {
            "tags": [],
            "needs_background": "light"
          }
        }
      ]
    },
    {
      "cell_type": "markdown",
      "metadata": {
        "id": "H2p0EtrwFmjF"
      },
      "source": [
        "**Observations so far:**\r\n",
        "\r\n",
        "* There is an almost equal *gender* distribution.\r\n",
        "* There are way more *youngsters* than *senior people*.\r\n",
        "* Nearly half the customers have *partners* while very few have *dependents*.\r\n",
        "* Majority of the customers avail *phone service*, with almost half of them opting for *multiple line connection*.\r\n",
        "* *Fiber optic* is the preferred choice for internet service, with *DSL* in a close second. Out of these, nearly half of the subscribers avail *streaming tv & movie* services.\r\n",
        "* A minority of people prefer features such as *online security*, *online backup*, *device protection*, and *tech support*.\r\n",
        "* Most of the customers are on a *monthly contract*.\r\n",
        "* Regarding payment, *paperless billing* is the most favoured option, with *electronic check* taking the top spot.\r\n",
        "* There are a vast number of customers with a *short tenure* (new customers) as well as quite a few long-time (loyal) customers.\r\n",
        "* For *monthly charges*, many customers are on the lower end ($20). The same is true for *total charges*."
      ]
    },
    {
      "cell_type": "code",
      "metadata": {
        "colab": {
          "base_uri": "https://localhost:8080/",
          "height": 1000
        },
        "id": "i7c-QflZR9K4",
        "outputId": "27eb9376-30c6-4bda-91c1-405d8f0a66dc"
      },
      "source": [
        "# Display bar plots for different columns stacked with respective churn data\r\n",
        "variables = ['gender', 'SeniorCitizen', 'Partner', 'Dependents', 'PhoneService',\r\n",
        "             'MultipleLines', 'InternetService', 'OnlineSecurity', 'OnlineBackup',\r\n",
        "             'DeviceProtection', 'TechSupport', 'StreamingTV', 'StreamingMovies',\r\n",
        "             'Contract', 'PaperlessBilling', 'PaymentMethod']\r\n",
        "fig, axes = plt.subplots(nrows = 4, ncols = 4, figsize = (20,20))\r\n",
        "\r\n",
        "for i, val in enumerate(variables):\r\n",
        "  x = df.groupby([val,'Churn']).size().unstack()\r\n",
        "  if i < 4:\r\n",
        "    ax = (x.T*100.0 / x.T.sum()).T.plot(kind='bar', width = 0.5, stacked = True, ax=axes[i,0], rot=0)\r\n",
        "      \r\n",
        "  elif i >=4 and i < 8:\r\n",
        "    ax = (x.T*100.0 / x.T.sum()).T.plot(kind='bar', width = 0.5, stacked = True, ax=axes[i-4,1], rot=0)\r\n",
        "      \r\n",
        "  elif i >=8 and i < 12:\r\n",
        "    ax = (x.T*100.0 / x.T.sum()).T.plot(kind='bar', width = 0.5, stacked = True, ax=axes[i-8,2], rot=0)\r\n",
        "\r\n",
        "  elif i < 16:\r\n",
        "    r=25 if i==15 else 0\r\n",
        "    ax = (x.T*100.0 / x.T.sum()).T.plot(kind='bar', width = 0.5, stacked = True, ax=axes[i-12,3], rot=r)\r\n",
        "  \r\n",
        "  # Add percentage values to the charts\r\n",
        "  for p in ax.patches:\r\n",
        "    width, height = p.get_width(), p.get_height()\r\n",
        "    x, y = p.get_xy() \r\n",
        "    ax.annotate('{:.0f}%'.format(height), (p.get_x()+.25*width, p.get_y()+.4*height), color = 'white', weight = 'bold')"
      ],
      "execution_count": null,
      "outputs": [
        {
          "output_type": "display_data",
          "data": {
            "image/png": "[encoded data removed]",
            "text/plain": [
              "<Figure size 1440x1440 with 16 Axes>"
            ]
          },
          "metadata": {
            "tags": [],
            "needs_background": "light"
          }
        }
      ]
    },
    {
      "cell_type": "code",
      "metadata": {
        "colab": {
          "base_uri": "https://localhost:8080/",
          "height": 529
        },
        "id": "iwvu3Vzm95K8",
        "outputId": "5396e9a8-0710-48ac-e525-4f8966af8f29"
      },
      "source": [
        "# Display Kernel Density Estimate (KDE) plot for tenure, monthly charges, and total charges with churn data\r\n",
        "fig, (ax1,ax2,ax3) = plt.subplots(nrows=1, ncols=3, figsize = (20,8))\r\n",
        "\r\n",
        "ax = sns.kdeplot(df.tenure[(df[\"Churn\"] == 'No')], ax=ax1, color=\"Green\", shade = True)\r\n",
        "ax = sns.kdeplot(df.tenure[(df[\"Churn\"] == 'Yes')], ax=ax1, color=\"Red\", shade= True)\r\n",
        "ax.legend([\"Not Churn\", \"Churn\"], loc='best')\r\n",
        "ax.set_ylabel('Density')\r\n",
        "ax.set_xlabel('Tenure')\r\n",
        "ax.set_title('Distribution of tenure by churn')\r\n",
        "\r\n",
        "ax = sns.kdeplot(df.MonthlyCharges[(df[\"Churn\"] == 'No')], ax=ax2, color=\"Green\", shade = True)\r\n",
        "ax = sns.kdeplot(df.MonthlyCharges[(df[\"Churn\"] == 'Yes')], ax=ax2, color=\"Red\", shade= True)\r\n",
        "ax.legend([\"Not Churn\", \"Churn\"], loc='best')\r\n",
        "ax.set_ylabel('Density')\r\n",
        "ax.set_xlabel('Monthly Charges')\r\n",
        "ax.set_title('Distribution of monthly charges by churn')\r\n",
        "\r\n",
        "ax = sns.kdeplot(df1.TotalCharges[(df[\"Churn\"] == 'No')], ax=ax3, color=\"Green\", shade = True)\r\n",
        "ax = sns.kdeplot(df1.TotalCharges[(df[\"Churn\"] == 'Yes')], ax=ax3, color=\"Red\", shade= True)\r\n",
        "ax.legend([\"Not Churn\", \"Churn\"], loc='best')\r\n",
        "ax.set_ylabel('Density')\r\n",
        "ax.set_xlabel('Total Charges')\r\n",
        "ax.set_title('Distribution of total charges by churn')"
      ],
      "execution_count": null,
      "outputs": [
        {
          "output_type": "execute_result",
          "data": {
            "text/plain": [
              "Text(0.5, 1.0, 'Distribution of total charges by churn')"
            ]
          },
          "metadata": {
            "tags": []
          },
          "execution_count": 27
        },
        {
          "output_type": "display_data",
          "data": {
            "image/png": "[encoded data removed]",
            "text/plain": [
              "<Figure size 1440x576 with 3 Axes>"
            ]
          },
          "metadata": {
            "tags": [],
            "needs_background": "light"
          }
        }
      ]
    },
    {
      "cell_type": "markdown",
      "metadata": {
        "id": "J_I7gwZtsWoF"
      },
      "source": [
        "**Further observations:**\r\n",
        "\r\n",
        "* In general, *gender*, *phone service*, and *multiple line connection* have no visible impact on customer churn.\r\n",
        "* *Senior citizens* have a higher churn rate than *younger* generation.\r\n",
        "* Customers having *partners* / *dependents* have a lower churn rate.\r\n",
        "* Those who avail *fiber optic* are more prone to leave the service, while the connection doesn't create much of an impact for *streaming tv & movie* subscribers.\r\n",
        "* Customer attrition is high for those who don't avail services such as *online security*, *online backup*, *device protection*, and *tech support*.\r\n",
        "* Those on *monthly* contract are more likely to churn whereas the churn rate for customers on a *two-year* contract is almost negligible (mostly due to long-term commitment).\r\n",
        "* Customers who prefer *paperless billing* (like *electronic check*) are more like to churn.\r\n",
        "* Customers with *short tenure* (new customers) are more likely to leave the service (mainly because they opt for short-term contracts).\r\n",
        "* More customers churn when the *monthly charges* are high although it is opposite for *total charges* (possibly due to not utilizing available services)."
      ]
    },
    {
      "cell_type": "code",
      "metadata": {
        "colab": {
          "base_uri": "https://localhost:8080/",
          "height": 454
        },
        "id": "LOwyCSzEEt0Y",
        "outputId": "9f3602e6-bffa-4f0e-ed5c-bde0badbf53b"
      },
      "source": [
        "# Plot correlation heatmap\r\n",
        "plt.figure(figsize=(12, 6))\r\n",
        "corr = df1.iloc[:,:-1].apply(lambda x: pd.factorize(x)[0]).corr()\r\n",
        "ax = sns.heatmap(corr, xticklabels=corr.columns, yticklabels=corr.columns, linewidths=0.2, cmap=\"YlGnBu\")"
      ],
      "execution_count": null,
      "outputs": [
        {
          "output_type": "display_data",
          "data": {
            "image/png": "[encoded data removed]",
            "text/plain": [
              "<Figure size 864x432 with 2 Axes>"
            ]
          },
          "metadata": {
            "tags": [],
            "needs_background": "light"
          }
        }
      ]
    },
    {
      "cell_type": "markdown",
      "metadata": {
        "id": "pFn7qSDoEx4P"
      },
      "source": [
        "As we can see, some features are redundant/less important/highly correlated. Although in our case we will let the models decide the correlation between the independent variables and churn, the following code can be executed to remove less important features."
      ]
    },
    {
      "cell_type": "code",
      "metadata": {
        "id": "MGnV6J0VD2N_"
      },
      "source": [
        "# Execute this to drop the less important features (as seen from EDA)\r\n",
        "# df1 = df1.drop(columns = ['gender','StreamingMovies','OnlineSecurity'])"
      ],
      "execution_count": null,
      "outputs": []
    },
    {
      "cell_type": "markdown",
      "metadata": {
        "id": "ay-2JREZPQ2G"
      },
      "source": [
        "### Implement Machine Learning Models"
      ]
    },
    {
      "cell_type": "code",
      "metadata": {
        "id": "D1sp9VgFPQ2G"
      },
      "source": [
        "# Create X & y with data from independent and dependent variables respectively\r\n",
        "y = df1['Churn'].values\r\n",
        "X = df1.drop(columns = ['Churn'])\r\n",
        "\r\n",
        "# Scale the variables (range=(0,1))\r\n",
        "features = X.columns.values\r\n",
        "scaler = MinMaxScaler(feature_range = (0,1))\r\n",
        "scaler.fit(X)\r\n",
        "X = pd.DataFrame(scaler.transform(X))\r\n",
        "X.columns = features"
      ],
      "execution_count": null,
      "outputs": []
    },
    {
      "cell_type": "code",
      "metadata": {
        "id": "4jeyJCj7PQ2G",
        "colab": {
          "base_uri": "https://localhost:8080/"
        },
        "outputId": "a683b767-7634-4373-b413-567f87ce6582"
      },
      "source": [
        "# Split the data into train set and test set\r\n",
        "X_train, X_test, y_train, y_test = train_test_split(X, y, test_size=0.30, random_state=42)\r\n",
        "\r\n",
        "# Check their shapes\r\n",
        "print(\"X_train: \", X_train.shape)\r\n",
        "print(\"y_train: \", y_train.shape)\r\n",
        "print(\"X_test: \", X_test.shape)\r\n",
        "print(\"y_test: \", y_test.shape)"
      ],
      "execution_count": null,
      "outputs": [
        {
          "output_type": "stream",
          "text": [
            "X_train:  (4922, 18)\n",
            "y_train:  (4922,)\n",
            "X_test:  (2110, 18)\n",
            "y_test:  (2110,)\n"
          ],
          "name": "stdout"
        }
      ]
    },
    {
      "cell_type": "markdown",
      "metadata": {
        "id": "KOrP4gtDa7Tz"
      },
      "source": [
        "**Logistic Regression**"
      ]
    },
    {
      "cell_type": "code",
      "metadata": {
        "id": "482Vii3sPQ2H",
        "colab": {
          "base_uri": "https://localhost:8080/"
        },
        "outputId": "98daeeda-6d8c-4f13-e24d-4a481c498dd4"
      },
      "source": [
        "# Model 1 - Logictic Regression\r\n",
        "model1 = LogisticRegression()\r\n",
        "model1.fit(X_train, y_train)\r\n",
        "\r\n",
        "# Make predictions and print the accuracy\r\n",
        "pred1 = model1.predict(X_test)\r\n",
        "print(\"Accuracy: {:.2f}% \\n\".format(100 * accuracy_score(y_test, pred1)))\r\n",
        "print(classification_report(y_test, pred1, target_names=['Negative','Positive']))"
      ],
      "execution_count": null,
      "outputs": [
        {
          "output_type": "stream",
          "text": [
            "Accuracy: 79.15% \n",
            "\n",
            "              precision    recall  f1-score   support\n",
            "\n",
            "    Negative       0.84      0.89      0.86      1549\n",
            "    Positive       0.63      0.52      0.57       561\n",
            "\n",
            "    accuracy                           0.79      2110\n",
            "   macro avg       0.73      0.70      0.72      2110\n",
            "weighted avg       0.78      0.79      0.78      2110\n",
            "\n"
          ],
          "name": "stdout"
        }
      ]
    },
    {
      "cell_type": "markdown",
      "metadata": {
        "id": "chfKBCrXa_jq"
      },
      "source": [
        "**Support Vector Classifier (SVC)**"
      ]
    },
    {
      "cell_type": "code",
      "metadata": {
        "id": "FQUnL3VzPQ2I",
        "colab": {
          "base_uri": "https://localhost:8080/"
        },
        "outputId": "b34c9f38-30b0-4778-8de6-f87154594b3f"
      },
      "source": [
        "# Model 2 - Support Vector Classifier\r\n",
        "model2 = SVC(kernel='linear') \r\n",
        "model2.fit(X_train, y_train)\r\n",
        "\r\n",
        "# Make predictions and print the accuracy\r\n",
        "pred2 = model2.predict(X_test)\r\n",
        "print(\"Accuracy: {:.2f}% \\n\".format(100 * accuracy_score(y_test, pred2)))\r\n",
        "print(classification_report(y_test, pred2, target_names=['Negative','Positive']))"
      ],
      "execution_count": null,
      "outputs": [
        {
          "output_type": "stream",
          "text": [
            "Accuracy: 78.91% \n",
            "\n",
            "              precision    recall  f1-score   support\n",
            "\n",
            "    Negative       0.83      0.89      0.86      1549\n",
            "    Positive       0.63      0.50      0.56       561\n",
            "\n",
            "    accuracy                           0.79      2110\n",
            "   macro avg       0.73      0.70      0.71      2110\n",
            "weighted avg       0.78      0.79      0.78      2110\n",
            "\n"
          ],
          "name": "stdout"
        }
      ]
    },
    {
      "cell_type": "markdown",
      "metadata": {
        "id": "IFtwq8b4bJC1"
      },
      "source": [
        "**Random Forest Classifier**"
      ]
    },
    {
      "cell_type": "code",
      "metadata": {
        "colab": {
          "base_uri": "https://localhost:8080/"
        },
        "id": "HBS_ANLqURJs",
        "outputId": "1ea514f2-6f43-4fdc-da29-79f346466aa7"
      },
      "source": [
        "# Model 3 - Random Forest Classifier\r\n",
        "model3 = RandomForestClassifier(n_estimators=1000, max_features = \"auto\", max_leaf_nodes = 50)\r\n",
        "model3.fit(X_train, y_train)\r\n",
        "\r\n",
        "# Find optimal parameters\r\n",
        "param_grid = { \r\n",
        "    'n_estimators': [100, 500, 1000],\r\n",
        "    'max_features': ['auto', 'sqrt', 'log2'],\r\n",
        "    'max_leaf_nodes': [20, 50]\r\n",
        "}\r\n",
        "\r\n",
        "# Use Grid Search with 5 fold cross-validation\r\n",
        "CV_model3 = GridSearchCV(estimator=model3, param_grid=param_grid, cv=5)\r\n",
        "CV_model3.fit(X_train, y_train)\r\n",
        "print (CV_model3.best_params_)"
      ],
      "execution_count": null,
      "outputs": [
        {
          "output_type": "stream",
          "text": [
            "{'max_features': 'auto', 'max_leaf_nodes': 50, 'n_estimators': 1000}\n"
          ],
          "name": "stdout"
        }
      ]
    },
    {
      "cell_type": "code",
      "metadata": {
        "colab": {
          "base_uri": "https://localhost:8080/"
        },
        "id": "DZQftEzzURHJ",
        "outputId": "d9cf9fb9-3a9a-4826-ba7b-fb10763af024"
      },
      "source": [
        "# Fit the model with optimal parameters\r\n",
        "model3 = RandomForestClassifier(n_estimators=1000, max_features = \"auto\", max_leaf_nodes = 50, random_state=42)\r\n",
        "model3.fit(X_train, y_train)\r\n",
        "\r\n",
        "# Make predictions and print the accuracy\r\n",
        "pred3 = model3.predict(X_test)\r\n",
        "print(\"Accuracy: {:.2f}% \\n\".format(100 * accuracy_score(y_test, pred3)))\r\n",
        "print(classification_report(y_test, pred3, target_names=['Negative','Positive']))"
      ],
      "execution_count": null,
      "outputs": [
        {
          "output_type": "stream",
          "text": [
            "Accuracy: 79.91% \n",
            "\n",
            "              precision    recall  f1-score   support\n",
            "\n",
            "    Negative       0.83      0.91      0.87      1549\n",
            "    Positive       0.67      0.48      0.56       561\n",
            "\n",
            "    accuracy                           0.80      2110\n",
            "   macro avg       0.75      0.70      0.71      2110\n",
            "weighted avg       0.79      0.80      0.79      2110\n",
            "\n"
          ],
          "name": "stdout"
        }
      ]
    },
    {
      "cell_type": "markdown",
      "metadata": {
        "id": "KbpfOzuSyuuv"
      },
      "source": [
        "**XGBoost Classifier**"
      ]
    },
    {
      "cell_type": "code",
      "metadata": {
        "colab": {
          "base_uri": "https://localhost:8080/"
        },
        "id": "lHB8KawwZ1_q",
        "outputId": "f925f696-a56a-414c-f5e1-49ddd69fe612"
      },
      "source": [
        "# Model 4 - XGBoost Classifier\r\n",
        "model4 = XGBClassifier()\r\n",
        "model4.fit(X_train, y_train)\r\n",
        "\r\n",
        "# Make predictions and print the accuracy\r\n",
        "pred4 = model4.predict(X_test)\r\n",
        "print(\"Accuracy: {:.2f}% \\n\".format(100 * accuracy_score(y_test, pred4)))\r\n",
        "print(classification_report(y_test, pred4, target_names=['Negative','Positive']))"
      ],
      "execution_count": null,
      "outputs": [
        {
          "output_type": "stream",
          "text": [
            "Accuracy: 80.00% \n",
            "\n",
            "              precision    recall  f1-score   support\n",
            "\n",
            "    Negative       0.84      0.90      0.87      1549\n",
            "    Positive       0.66      0.51      0.58       561\n",
            "\n",
            "    accuracy                           0.80      2110\n",
            "   macro avg       0.75      0.71      0.72      2110\n",
            "weighted avg       0.79      0.80      0.79      2110\n",
            "\n"
          ],
          "name": "stdout"
        }
      ]
    },
    {
      "cell_type": "markdown",
      "metadata": {
        "id": "p_zmST-fPQ2I"
      },
      "source": [
        "### Model Evaluation"
      ]
    },
    {
      "cell_type": "code",
      "metadata": {
        "id": "cZ7FMaQm3ukQ"
      },
      "source": [
        "# Create a dataframe to store weights corresponding to each independent variable\r\n",
        "weights = pd.DataFrame(columns=['LR weights','SVC weights','RFC weights','XGB weights'], index=X.columns.values)"
      ],
      "execution_count": null,
      "outputs": []
    },
    {
      "cell_type": "code",
      "metadata": {
        "id": "44ArtXTWPQ2H"
      },
      "source": [
        "# Store the weights of all the variables\r\n",
        "weights['LR weights'] = model1.coef_[0]\r\n",
        "weights['SVC weights'] = model2.coef_[0]\r\n",
        "weights['RFC weights'] = model3.feature_importances_\r\n",
        "weights['XGB weights'] = model4.feature_importances_"
      ],
      "execution_count": null,
      "outputs": []
    },
    {
      "cell_type": "code",
      "metadata": {
        "colab": {
          "base_uri": "https://localhost:8080/",
          "height": 584
        },
        "id": "P-RiItOZ438K",
        "outputId": "c349e5a2-4715-4ed5-bd18-b1283a4344f3"
      },
      "source": [
        "# Display the dataframe of variables and their weights for each model\r\n",
        "weights"
      ],
      "execution_count": null,
      "outputs": [
        {
          "output_type": "execute_result",
          "data": {
            "text/html": [
              "<div>\n",
              "<style scoped>\n",
              "    .dataframe tbody tr th:only-of-type {\n",
              "        vertical-align: middle;\n",
              "    }\n",
              "\n",
              "    .dataframe tbody tr th {\n",
              "        vertical-align: top;\n",
              "    }\n",
              "\n",
              "    .dataframe thead th {\n",
              "        text-align: right;\n",
              "    }\n",
              "</style>\n",
              "<table border=\"1\" class=\"dataframe\">\n",
              "  <thead>\n",
              "    <tr style=\"text-align: right;\">\n",
              "      <th></th>\n",
              "      <th>LR weights</th>\n",
              "      <th>SVC weights</th>\n",
              "      <th>RFC weights</th>\n",
              "      <th>XGB weights</th>\n",
              "    </tr>\n",
              "  </thead>\n",
              "  <tbody>\n",
              "    <tr>\n",
              "      <th>gender</th>\n",
              "      <td>-0.029558</td>\n",
              "      <td>-0.049367</td>\n",
              "      <td>0.004937</td>\n",
              "      <td>0.013946</td>\n",
              "    </tr>\n",
              "    <tr>\n",
              "      <th>SeniorCitizen</th>\n",
              "      <td>0.272075</td>\n",
              "      <td>0.223342</td>\n",
              "      <td>0.010586</td>\n",
              "      <td>0.024450</td>\n",
              "    </tr>\n",
              "    <tr>\n",
              "      <th>Partner</th>\n",
              "      <td>0.142940</td>\n",
              "      <td>0.082758</td>\n",
              "      <td>0.005180</td>\n",
              "      <td>0.008998</td>\n",
              "    </tr>\n",
              "    <tr>\n",
              "      <th>Dependents</th>\n",
              "      <td>-0.301180</td>\n",
              "      <td>-0.169469</td>\n",
              "      <td>0.007230</td>\n",
              "      <td>0.019674</td>\n",
              "    </tr>\n",
              "    <tr>\n",
              "      <th>tenure</th>\n",
              "      <td>-3.075295</td>\n",
              "      <td>-1.111805</td>\n",
              "      <td>0.162659</td>\n",
              "      <td>0.069523</td>\n",
              "    </tr>\n",
              "    <tr>\n",
              "      <th>MultipleLines</th>\n",
              "      <td>0.208394</td>\n",
              "      <td>0.149373</td>\n",
              "      <td>0.009823</td>\n",
              "      <td>0.017183</td>\n",
              "    </tr>\n",
              "    <tr>\n",
              "      <th>InternetService</th>\n",
              "      <td>0.107652</td>\n",
              "      <td>0.778095</td>\n",
              "      <td>0.060766</td>\n",
              "      <td>0.102337</td>\n",
              "    </tr>\n",
              "    <tr>\n",
              "      <th>OnlineSecurity</th>\n",
              "      <td>-0.584474</td>\n",
              "      <td>-0.493428</td>\n",
              "      <td>0.100081</td>\n",
              "      <td>0.094027</td>\n",
              "    </tr>\n",
              "    <tr>\n",
              "      <th>OnlineBackup</th>\n",
              "      <td>-0.199106</td>\n",
              "      <td>-0.238577</td>\n",
              "      <td>0.034261</td>\n",
              "      <td>0.033437</td>\n",
              "    </tr>\n",
              "    <tr>\n",
              "      <th>DeviceProtection</th>\n",
              "      <td>-0.125808</td>\n",
              "      <td>-0.184297</td>\n",
              "      <td>0.020446</td>\n",
              "      <td>0.000000</td>\n",
              "    </tr>\n",
              "    <tr>\n",
              "      <th>TechSupport</th>\n",
              "      <td>-0.543270</td>\n",
              "      <td>-0.451795</td>\n",
              "      <td>0.088114</td>\n",
              "      <td>0.129017</td>\n",
              "    </tr>\n",
              "    <tr>\n",
              "      <th>StreamingTV</th>\n",
              "      <td>0.099346</td>\n",
              "      <td>0.009053</td>\n",
              "      <td>0.010155</td>\n",
              "      <td>0.022125</td>\n",
              "    </tr>\n",
              "    <tr>\n",
              "      <th>StreamingMovies</th>\n",
              "      <td>0.100796</td>\n",
              "      <td>-0.019959</td>\n",
              "      <td>0.009204</td>\n",
              "      <td>0.028994</td>\n",
              "    </tr>\n",
              "    <tr>\n",
              "      <th>Contract</th>\n",
              "      <td>-1.569080</td>\n",
              "      <td>-0.332121</td>\n",
              "      <td>0.204348</td>\n",
              "      <td>0.329646</td>\n",
              "    </tr>\n",
              "    <tr>\n",
              "      <th>PaperlessBilling</th>\n",
              "      <td>0.270689</td>\n",
              "      <td>0.213212</td>\n",
              "      <td>0.011526</td>\n",
              "      <td>0.028431</td>\n",
              "    </tr>\n",
              "    <tr>\n",
              "      <th>PaymentMethod</th>\n",
              "      <td>0.086340</td>\n",
              "      <td>0.106914</td>\n",
              "      <td>0.026437</td>\n",
              "      <td>0.019801</td>\n",
              "    </tr>\n",
              "    <tr>\n",
              "      <th>MonthlyCharges</th>\n",
              "      <td>1.934887</td>\n",
              "      <td>2.487768</td>\n",
              "      <td>0.116004</td>\n",
              "      <td>0.037793</td>\n",
              "    </tr>\n",
              "    <tr>\n",
              "      <th>TotalCharges</th>\n",
              "      <td>1.166648</td>\n",
              "      <td>-1.677534</td>\n",
              "      <td>0.118245</td>\n",
              "      <td>0.020620</td>\n",
              "    </tr>\n",
              "  </tbody>\n",
              "</table>\n",
              "</div>"
            ],
            "text/plain": [
              "                  LR weights  SVC weights  RFC weights  XGB weights\n",
              "gender             -0.029558    -0.049367     0.004937     0.013946\n",
              "SeniorCitizen       0.272075     0.223342     0.010586     0.024450\n",
              "Partner             0.142940     0.082758     0.005180     0.008998\n",
              "Dependents         -0.301180    -0.169469     0.007230     0.019674\n",
              "tenure             -3.075295    -1.111805     0.162659     0.069523\n",
              "MultipleLines       0.208394     0.149373     0.009823     0.017183\n",
              "InternetService     0.107652     0.778095     0.060766     0.102337\n",
              "OnlineSecurity     -0.584474    -0.493428     0.100081     0.094027\n",
              "OnlineBackup       -0.199106    -0.238577     0.034261     0.033437\n",
              "DeviceProtection   -0.125808    -0.184297     0.020446     0.000000\n",
              "TechSupport        -0.543270    -0.451795     0.088114     0.129017\n",
              "StreamingTV         0.099346     0.009053     0.010155     0.022125\n",
              "StreamingMovies     0.100796    -0.019959     0.009204     0.028994\n",
              "Contract           -1.569080    -0.332121     0.204348     0.329646\n",
              "PaperlessBilling    0.270689     0.213212     0.011526     0.028431\n",
              "PaymentMethod       0.086340     0.106914     0.026437     0.019801\n",
              "MonthlyCharges      1.934887     2.487768     0.116004     0.037793\n",
              "TotalCharges        1.166648    -1.677534     0.118245     0.020620"
            ]
          },
          "metadata": {
            "tags": []
          },
          "execution_count": 39
        }
      ]
    },
    {
      "cell_type": "markdown",
      "metadata": {
        "id": "Eb0Apw9c5xAP"
      },
      "source": [
        "**Final observations:**\r\n",
        "\r\n",
        "* From the above model evaluation results, it is clear that *monthly charges* is one of the major factors of customer churning.\r\n",
        "* Other important factors leading to high churn rates are *seniority* and *paperless billing*.\r\n",
        "* Furthermore, *gender* and *phone service* have almost no impact on churn rate."
      ]
    },
    {
      "cell_type": "markdown",
      "metadata": {
        "id": "ro6iNYPKPQ2I"
      },
      "source": [
        "### Final Conclusions"
      ]
    },
    {
      "cell_type": "markdown",
      "metadata": {
        "id": "3SYJ1AyS-jwX"
      },
      "source": [
        "**Suggestions to control customer attrition:**\r\n",
        "\r\n",
        "1. Since *monthly* contracts deter customers from staying for long, the company can offer better incentives on *yearly* or *two-year* contracts to increase a customer's tenure.\r\n",
        "2. It is also possible that customers, in particular *senior citizens*, aren't well-informed about services such as *online security*, *online backup*, *device protection*, and *tech support*. Targeted advertising to promote these features as well as highlighting benefits of *fibre optic connection* (having high churn) can prove beneficial.\r\n",
        "3. More *payment methods* can be offered to customers with promotional offers including cashbacks, discounts on certain credit cards, etc.\r\n"
      ]
    }
  ]
}